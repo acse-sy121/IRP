{
  "nbformat": 4,
  "nbformat_minor": 0,
  "metadata": {
    "colab": {
      "name": "AAE.ipynb",
      "provenance": [],
      "collapsed_sections": [],
      "machine_shape": "hm",
      "background_execution": "on"
    },
    "kernelspec": {
      "name": "python3",
      "display_name": "Python 3"
    },
    "language_info": {
      "name": "python"
    },
    "gpuClass": "standard",
    "accelerator": "GPU"
  },
  "cells": [
    {
      "cell_type": "markdown",
      "source": [
        "==============================\\\n",
        "Student name: Shiqi Yin \\\n",
        "GitHub username: acse-sy121\\\n",
        "\\=============================="
      ],
      "metadata": {
        "id": "3qWeWcTWt_pT"
      }
    },
    {
      "cell_type": "code",
      "execution_count": null,
      "metadata": {
        "id": "cWzQ4kO9b1xu",
        "colab": {
          "base_uri": "https://localhost:8080/"
        },
        "outputId": "78855bcd-6b93-4a19-f634-8d82b580f6c9"
      },
      "outputs": [
        {
          "output_type": "stream",
          "name": "stdout",
          "text": [
            "Looking in indexes: https://pypi.org/simple, https://us-python.pkg.dev/colab-wheels/public/simple/\n",
            "Collecting tensorflow==2.7.0\n",
            "  Downloading https://us-python.pkg.dev/colab-wheels/public/tensorflow/tensorflow-2.7.0%2Bzzzcolab20220506150900-cp37-cp37m-linux_x86_64.whl (665.5 MB)\n",
            "\u001b[K     |████████████████████████████████| 665.5 MB 19 kB/s \n",
            "\u001b[?25hRequirement already satisfied: absl-py>=0.4.0 in /usr/local/lib/python3.7/dist-packages (from tensorflow==2.7.0) (1.2.0)\n",
            "Requirement already satisfied: termcolor>=1.1.0 in /usr/local/lib/python3.7/dist-packages (from tensorflow==2.7.0) (1.1.0)\n",
            "Requirement already satisfied: wrapt>=1.11.0 in /usr/local/lib/python3.7/dist-packages (from tensorflow==2.7.0) (1.14.1)\n",
            "Requirement already satisfied: opt-einsum>=2.3.2 in /usr/local/lib/python3.7/dist-packages (from tensorflow==2.7.0) (3.3.0)\n",
            "Requirement already satisfied: tensorflow-io-gcs-filesystem>=0.21.0 in /usr/local/lib/python3.7/dist-packages (from tensorflow==2.7.0) (0.26.0)\n",
            "Requirement already satisfied: protobuf>=3.9.2 in /usr/local/lib/python3.7/dist-packages (from tensorflow==2.7.0) (3.17.3)\n",
            "Collecting tensorflow-estimator<2.8,~=2.7.0rc0\n",
            "  Downloading tensorflow_estimator-2.7.0-py2.py3-none-any.whl (463 kB)\n",
            "\u001b[K     |████████████████████████████████| 463 kB 11.5 MB/s \n",
            "\u001b[?25hRequirement already satisfied: six>=1.12.0 in /usr/local/lib/python3.7/dist-packages (from tensorflow==2.7.0) (1.15.0)\n",
            "Collecting keras<2.8,>=2.7.0rc0\n",
            "  Downloading keras-2.7.0-py2.py3-none-any.whl (1.3 MB)\n",
            "\u001b[K     |████████████████████████████████| 1.3 MB 58.6 MB/s \n",
            "\u001b[?25hRequirement already satisfied: numpy>=1.14.5 in /usr/local/lib/python3.7/dist-packages (from tensorflow==2.7.0) (1.21.6)\n",
            "Requirement already satisfied: grpcio<2.0,>=1.24.3 in /usr/local/lib/python3.7/dist-packages (from tensorflow==2.7.0) (1.47.0)\n",
            "Requirement already satisfied: keras-preprocessing>=1.1.1 in /usr/local/lib/python3.7/dist-packages (from tensorflow==2.7.0) (1.1.2)\n",
            "Requirement already satisfied: astunparse>=1.6.0 in /usr/local/lib/python3.7/dist-packages (from tensorflow==2.7.0) (1.6.3)\n",
            "Requirement already satisfied: google-pasta>=0.1.1 in /usr/local/lib/python3.7/dist-packages (from tensorflow==2.7.0) (0.2.0)\n",
            "Requirement already satisfied: typing-extensions>=3.6.6 in /usr/local/lib/python3.7/dist-packages (from tensorflow==2.7.0) (4.1.1)\n",
            "Requirement already satisfied: libclang>=9.0.1 in /usr/local/lib/python3.7/dist-packages (from tensorflow==2.7.0) (14.0.6)\n",
            "Requirement already satisfied: gast<0.5.0,>=0.2.1 in /usr/local/lib/python3.7/dist-packages (from tensorflow==2.7.0) (0.4.0)\n",
            "Requirement already satisfied: flatbuffers<3.0,>=1.12 in /usr/local/lib/python3.7/dist-packages (from tensorflow==2.7.0) (1.12)\n",
            "Requirement already satisfied: h5py>=2.9.0 in /usr/local/lib/python3.7/dist-packages (from tensorflow==2.7.0) (3.1.0)\n",
            "Requirement already satisfied: tensorboard~=2.6 in /usr/local/lib/python3.7/dist-packages (from tensorflow==2.7.0) (2.9.1)\n",
            "Requirement already satisfied: wheel<1.0,>=0.32.0 in /usr/local/lib/python3.7/dist-packages (from tensorflow==2.7.0) (0.37.1)\n",
            "Requirement already satisfied: cached-property in /usr/local/lib/python3.7/dist-packages (from h5py>=2.9.0->tensorflow==2.7.0) (1.5.2)\n",
            "Requirement already satisfied: tensorboard-plugin-wit>=1.6.0 in /usr/local/lib/python3.7/dist-packages (from tensorboard~=2.6->tensorflow==2.7.0) (1.8.1)\n",
            "Requirement already satisfied: markdown>=2.6.8 in /usr/local/lib/python3.7/dist-packages (from tensorboard~=2.6->tensorflow==2.7.0) (3.4.1)\n",
            "Requirement already satisfied: tensorboard-data-server<0.7.0,>=0.6.0 in /usr/local/lib/python3.7/dist-packages (from tensorboard~=2.6->tensorflow==2.7.0) (0.6.1)\n",
            "Requirement already satisfied: google-auth-oauthlib<0.5,>=0.4.1 in /usr/local/lib/python3.7/dist-packages (from tensorboard~=2.6->tensorflow==2.7.0) (0.4.6)\n",
            "Requirement already satisfied: setuptools>=41.0.0 in /usr/local/lib/python3.7/dist-packages (from tensorboard~=2.6->tensorflow==2.7.0) (57.4.0)\n",
            "Requirement already satisfied: werkzeug>=1.0.1 in /usr/local/lib/python3.7/dist-packages (from tensorboard~=2.6->tensorflow==2.7.0) (1.0.1)\n",
            "Requirement already satisfied: google-auth<3,>=1.6.3 in /usr/local/lib/python3.7/dist-packages (from tensorboard~=2.6->tensorflow==2.7.0) (1.35.0)\n",
            "Requirement already satisfied: requests<3,>=2.21.0 in /usr/local/lib/python3.7/dist-packages (from tensorboard~=2.6->tensorflow==2.7.0) (2.23.0)\n",
            "Requirement already satisfied: rsa<5,>=3.1.4 in /usr/local/lib/python3.7/dist-packages (from google-auth<3,>=1.6.3->tensorboard~=2.6->tensorflow==2.7.0) (4.9)\n",
            "Requirement already satisfied: pyasn1-modules>=0.2.1 in /usr/local/lib/python3.7/dist-packages (from google-auth<3,>=1.6.3->tensorboard~=2.6->tensorflow==2.7.0) (0.2.8)\n",
            "Requirement already satisfied: cachetools<5.0,>=2.0.0 in /usr/local/lib/python3.7/dist-packages (from google-auth<3,>=1.6.3->tensorboard~=2.6->tensorflow==2.7.0) (4.2.4)\n",
            "Requirement already satisfied: requests-oauthlib>=0.7.0 in /usr/local/lib/python3.7/dist-packages (from google-auth-oauthlib<0.5,>=0.4.1->tensorboard~=2.6->tensorflow==2.7.0) (1.3.1)\n",
            "Requirement already satisfied: importlib-metadata>=4.4 in /usr/local/lib/python3.7/dist-packages (from markdown>=2.6.8->tensorboard~=2.6->tensorflow==2.7.0) (4.12.0)\n",
            "Requirement already satisfied: zipp>=0.5 in /usr/local/lib/python3.7/dist-packages (from importlib-metadata>=4.4->markdown>=2.6.8->tensorboard~=2.6->tensorflow==2.7.0) (3.8.1)\n",
            "Requirement already satisfied: pyasn1<0.5.0,>=0.4.6 in /usr/local/lib/python3.7/dist-packages (from pyasn1-modules>=0.2.1->google-auth<3,>=1.6.3->tensorboard~=2.6->tensorflow==2.7.0) (0.4.8)\n",
            "Requirement already satisfied: chardet<4,>=3.0.2 in /usr/local/lib/python3.7/dist-packages (from requests<3,>=2.21.0->tensorboard~=2.6->tensorflow==2.7.0) (3.0.4)\n",
            "Requirement already satisfied: certifi>=2017.4.17 in /usr/local/lib/python3.7/dist-packages (from requests<3,>=2.21.0->tensorboard~=2.6->tensorflow==2.7.0) (2022.6.15)\n",
            "Requirement already satisfied: idna<3,>=2.5 in /usr/local/lib/python3.7/dist-packages (from requests<3,>=2.21.0->tensorboard~=2.6->tensorflow==2.7.0) (2.10)\n",
            "Requirement already satisfied: urllib3!=1.25.0,!=1.25.1,<1.26,>=1.21.1 in /usr/local/lib/python3.7/dist-packages (from requests<3,>=2.21.0->tensorboard~=2.6->tensorflow==2.7.0) (1.24.3)\n",
            "Requirement already satisfied: oauthlib>=3.0.0 in /usr/local/lib/python3.7/dist-packages (from requests-oauthlib>=0.7.0->google-auth-oauthlib<0.5,>=0.4.1->tensorboard~=2.6->tensorflow==2.7.0) (3.2.0)\n",
            "Installing collected packages: tensorflow-estimator, keras, tensorflow\n",
            "  Attempting uninstall: tensorflow-estimator\n",
            "    Found existing installation: tensorflow-estimator 2.9.0\n",
            "    Uninstalling tensorflow-estimator-2.9.0:\n",
            "      Successfully uninstalled tensorflow-estimator-2.9.0\n",
            "  Attempting uninstall: keras\n",
            "    Found existing installation: keras 2.9.0\n",
            "    Uninstalling keras-2.9.0:\n",
            "      Successfully uninstalled keras-2.9.0\n",
            "  Attempting uninstall: tensorflow\n",
            "    Found existing installation: tensorflow 2.9.1\n",
            "    Uninstalling tensorflow-2.9.1:\n",
            "      Successfully uninstalled tensorflow-2.9.1\n",
            "Successfully installed keras-2.7.0 tensorflow-2.7.0+zzzcolab20220506150900 tensorflow-estimator-2.7.0\n"
          ]
        }
      ],
      "source": [
        "!pip install tensorflow==2.7.0\n",
        "from tensorflow import keras\n",
        "from sklearn.preprocessing import MinMaxScaler\n",
        "\n",
        "import tensorflow as tf\n",
        "import matplotlib.pyplot as plt\n",
        "import numpy as np\n",
        "import joblib\n",
        "import copy"
      ]
    },
    {
      "cell_type": "code",
      "source": [
        "from google.colab import drive\n",
        "drive.mount('/content/drive')"
      ],
      "metadata": {
        "id": "fVkGonJYmO_n",
        "colab": {
          "base_uri": "https://localhost:8080/"
        },
        "outputId": "46ae52fb-730d-4dd3-c918-cc6104a8b0ba"
      },
      "execution_count": null,
      "outputs": [
        {
          "output_type": "stream",
          "name": "stdout",
          "text": [
            "Mounted at /content/drive\n"
          ]
        }
      ]
    },
    {
      "cell_type": "code",
      "source": [
        "# PCA model\n",
        "pca_compress = joblib.load('/content/drive/MyDrive/output_files/DATA/PCA_data/pca_compress_to_92.pkl')\n",
        "# POD coefficients\n",
        "train_data = joblib.load('/content/drive/MyDrive/output_files/DATA/PCA_data/X_train_pca.pkl')\n",
        "print(train_data.shape)"
      ],
      "metadata": {
        "colab": {
          "base_uri": "https://localhost:8080/"
        },
        "id": "DMnTeIbgcqku",
        "outputId": "cad14627-a1ed-43f6-949c-cdb47f05be8a"
      },
      "execution_count": null,
      "outputs": [
        {
          "output_type": "stream",
          "name": "stdout",
          "text": [
            "(576, 150)\n"
          ]
        }
      ]
    },
    {
      "cell_type": "code",
      "source": [
        "train_data"
      ],
      "metadata": {
        "colab": {
          "base_uri": "https://localhost:8080/"
        },
        "id": "UmMIgr6keCoE",
        "outputId": "b2263e6a-152f-4adf-da75-6c986ffdc7d2"
      },
      "execution_count": null,
      "outputs": [
        {
          "output_type": "execute_result",
          "data": {
            "text/plain": [
              "array([[ 8.80486363e+02,  4.12229972e+02,  3.95681246e+00, ...,\n",
              "        -6.96420993e+00,  4.93415740e+00,  3.52779016e+00],\n",
              "       [ 8.75527584e+02,  4.04940774e+02,  1.04710778e+01, ...,\n",
              "         3.92726780e+00, -2.26658068e+00, -3.06227426e+00],\n",
              "       [ 8.72281335e+02,  4.01970858e+02,  3.39819939e+01, ...,\n",
              "         5.41922985e+00,  1.70541213e+00,  5.61786257e+00],\n",
              "       ...,\n",
              "       [-4.91745149e+02,  7.73314021e+01, -1.15152567e+00, ...,\n",
              "        -9.09437401e-01, -2.57594235e+00,  4.43025032e+00],\n",
              "       [-4.91767096e+02,  7.68693790e+01,  5.02940256e+00, ...,\n",
              "        -1.61047777e-01,  2.04845450e+01,  6.76800410e+00],\n",
              "       [-4.93904653e+02,  7.28145386e+01,  1.64911295e+01, ...,\n",
              "         2.14301294e+00, -1.01158558e+01,  9.57896778e+00]])"
            ]
          },
          "metadata": {},
          "execution_count": 24
        }
      ]
    },
    {
      "cell_type": "code",
      "source": [
        "# Parameters\n",
        "input_timestamps = 9\n",
        "batchsize = 128\n",
        "latent_space = 350\n",
        "step = 1"
      ],
      "metadata": {
        "id": "xzlxBdbpwppg"
      },
      "execution_count": null,
      "outputs": []
    },
    {
      "cell_type": "code",
      "source": [
        "scaler_minmax = MinMaxScaler((0,1))\n",
        "scaler_minmax.fit(train_data)\n",
        "X_train_array_origin = scaler_minmax.transform(train_data)"
      ],
      "metadata": {
        "id": "nYnVVk7WqbXX"
      },
      "execution_count": null,
      "outputs": []
    },
    {
      "cell_type": "code",
      "source": [
        "def simplify_dataset(X_train, input_timestamps, step):\n",
        "  X_train_simp = []\n",
        "  for i in range(len(X_train) - input_timestamps*step):\n",
        "    X_train_simp.append(X_train[i:i+input_timestamps*step:step])\n",
        "  return np.array(X_train_simp) "
      ],
      "metadata": {
        "id": "DqYtre3tswOI"
      },
      "execution_count": null,
      "outputs": []
    },
    {
      "cell_type": "code",
      "source": [
        "X_train_array = simplify_dataset(X_train_array_origin, input_timestamps, step)\n",
        "print(X_train_array.shape)"
      ],
      "metadata": {
        "colab": {
          "base_uri": "https://localhost:8080/"
        },
        "id": "GT7mNPXFswQY",
        "outputId": "4dff392b-3e3e-4ebc-ce86-e76e4edf811e"
      },
      "execution_count": null,
      "outputs": [
        {
          "output_type": "stream",
          "name": "stdout",
          "text": [
            "(567, 9, 150)\n"
          ]
        }
      ]
    },
    {
      "cell_type": "code",
      "source": [
        "def Data_reshape(input_array):\n",
        "  X_for_conv = (input_array.reshape((input_array.shape[0], input_timestamps, input_array.shape[2], 1))).astype('float32')\n",
        "  X_output = tf.data.Dataset.from_tensor_slices(X_for_conv)\n",
        "  X_output = X_output.shuffle(len(X_output))\n",
        "  X_output = X_output.batch(batchsize)\n",
        "  print(X_for_conv.shape)\n",
        "  return X_for_conv, X_output"
      ],
      "metadata": {
        "id": "texciM4gTPsX"
      },
      "execution_count": null,
      "outputs": []
    },
    {
      "cell_type": "code",
      "source": [
        "X_train_for_conv, X_train = Data_reshape(X_train_array)"
      ],
      "metadata": {
        "colab": {
          "base_uri": "https://localhost:8080/"
        },
        "id": "OmZzi7oSUEco",
        "outputId": "c35c42de-eb6d-4f21-aa6f-074c6265361c"
      },
      "execution_count": null,
      "outputs": [
        {
          "output_type": "stream",
          "name": "stdout",
          "text": [
            "(567, 9, 150, 1)\n"
          ]
        }
      ]
    },
    {
      "cell_type": "code",
      "source": [
        "def make_encoder_model():\n",
        "  model = keras.Sequential()\n",
        "  model.add(keras.layers.Conv2D(48, (3, 3), input_shape = (input_timestamps, train_data.shape[1], 1), padding='same'))\n",
        "  model.add(keras.layers.BatchNormalization())\n",
        "  model.add(keras.layers.LeakyReLU())\n",
        "  model.add(keras.layers.Dropout(0.2))\n",
        "\n",
        "  model.add(keras.layers.Conv2D(24, (3, 3), padding='same'))\n",
        "  model.add(keras.layers.BatchNormalization())\n",
        "  model.add(keras.layers.LeakyReLU())\n",
        "  model.add(keras.layers.Dropout(0.2))\n",
        "\n",
        "  model.add(keras.layers.Conv2D(4, (3, 3), padding='same'))\n",
        "  model.add(keras.layers.BatchNormalization())\n",
        "  model.add(keras.layers.LeakyReLU())\n",
        "  model.add(keras.layers.Dropout(0.2))\n",
        "\n",
        "  model.add(keras.layers.Flatten())\n",
        "  model.add(keras.layers.Dense(latent_space))\n",
        "\n",
        "  return model\n",
        "\n",
        "def make_decoder_model():\n",
        "  model = keras.Sequential()\n",
        "  model.add(keras.layers.Dense(X_train_for_conv.shape[1]*X_train_for_conv.shape[2]*4, use_bias=False, activation = 'relu', input_shape = (latent_space,)))\n",
        "  model.add(keras.layers.Reshape((input_timestamps, train_data.shape[1], 4)))\n",
        "\n",
        "  model.add(keras.layers.Conv2DTranspose(24, (3, 3), padding = 'same', use_bias=False))\n",
        "  model.add(keras.layers.BatchNormalization())\n",
        "  model.add(keras.layers.LeakyReLU())\n",
        "\n",
        "  model.add(keras.layers.Conv2DTranspose(48, (3, 3), padding = 'same', use_bias=False))\n",
        "  model.add(keras.layers.BatchNormalization())\n",
        "  model.add(keras.layers.LeakyReLU())\n",
        "\n",
        "  model.add(keras.layers.Conv2DTranspose(1, (3, 3), padding = 'same', output_padding=[0,0], use_bias=False, activation='sigmoid'))\n",
        "\n",
        "  return model"
      ],
      "metadata": {
        "id": "rUY5ebQTixlx"
      },
      "execution_count": null,
      "outputs": []
    },
    {
      "cell_type": "code",
      "source": [
        "def make_discriminator_model():\n",
        "  model = tf.keras.Sequential()\n",
        "  model.add(keras.layers.Dense(512, activation=\"relu\", input_shape=(latent_space,)))\n",
        "  model.add(keras.layers.Dropout(0.2))\n",
        "  model.add(keras.layers.Dense(256, activation=\"relu\"))\n",
        "  model.add(keras.layers.Dropout(0.2))\n",
        "  model.add(keras.layers.Dense(96, activation=\"relu\"))\n",
        "  model.add(keras.layers.Dropout(0.2))\n",
        "  model.add(keras.layers.Dense(1))\n",
        "\n",
        "  return model"
      ],
      "metadata": {
        "id": "_FQErb0gb77m"
      },
      "execution_count": null,
      "outputs": []
    },
    {
      "cell_type": "code",
      "source": [
        "encoder = make_encoder_model()\n",
        "encoder.summary()"
      ],
      "metadata": {
        "id": "tCLehh05i6zJ",
        "colab": {
          "base_uri": "https://localhost:8080/"
        },
        "outputId": "f103e352-7f1c-44d3-948f-94af5fffe6f4"
      },
      "execution_count": null,
      "outputs": [
        {
          "output_type": "stream",
          "name": "stdout",
          "text": [
            "Model: \"sequential_25\"\n",
            "_________________________________________________________________\n",
            " Layer (type)                Output Shape              Param #   \n",
            "=================================================================\n",
            " conv2d_15 (Conv2D)          (None, 9, 150, 48)        480       \n",
            "                                                                 \n",
            " batch_normalization_25 (Bat  (None, 9, 150, 48)       192       \n",
            " chNormalization)                                                \n",
            "                                                                 \n",
            " leaky_re_lu_25 (LeakyReLU)  (None, 9, 150, 48)        0         \n",
            "                                                                 \n",
            " dropout_30 (Dropout)        (None, 9, 150, 48)        0         \n",
            "                                                                 \n",
            " conv2d_16 (Conv2D)          (None, 9, 150, 24)        10392     \n",
            "                                                                 \n",
            " batch_normalization_26 (Bat  (None, 9, 150, 24)       96        \n",
            " chNormalization)                                                \n",
            "                                                                 \n",
            " leaky_re_lu_26 (LeakyReLU)  (None, 9, 150, 24)        0         \n",
            "                                                                 \n",
            " dropout_31 (Dropout)        (None, 9, 150, 24)        0         \n",
            "                                                                 \n",
            " conv2d_17 (Conv2D)          (None, 9, 150, 4)         868       \n",
            "                                                                 \n",
            " batch_normalization_27 (Bat  (None, 9, 150, 4)        16        \n",
            " chNormalization)                                                \n",
            "                                                                 \n",
            " leaky_re_lu_27 (LeakyReLU)  (None, 9, 150, 4)         0         \n",
            "                                                                 \n",
            " dropout_32 (Dropout)        (None, 9, 150, 4)         0         \n",
            "                                                                 \n",
            " flatten_5 (Flatten)         (None, 5400)              0         \n",
            "                                                                 \n",
            " dense_30 (Dense)            (None, 350)               1890350   \n",
            "                                                                 \n",
            "=================================================================\n",
            "Total params: 1,902,394\n",
            "Trainable params: 1,902,242\n",
            "Non-trainable params: 152\n",
            "_________________________________________________________________\n"
          ]
        }
      ]
    },
    {
      "cell_type": "code",
      "source": [
        "decoder = make_decoder_model()\n",
        "decoder.summary()"
      ],
      "metadata": {
        "id": "wOItV4IwEqGG",
        "colab": {
          "base_uri": "https://localhost:8080/"
        },
        "outputId": "b2ee536c-0bee-403f-fc7a-29bf10710323"
      },
      "execution_count": null,
      "outputs": [
        {
          "output_type": "stream",
          "name": "stdout",
          "text": [
            "Model: \"sequential_26\"\n",
            "_________________________________________________________________\n",
            " Layer (type)                Output Shape              Param #   \n",
            "=================================================================\n",
            " dense_31 (Dense)            (None, 5400)              1890000   \n",
            "                                                                 \n",
            " reshape_5 (Reshape)         (None, 9, 150, 4)         0         \n",
            "                                                                 \n",
            " conv2d_transpose_15 (Conv2D  (None, 9, 150, 24)       864       \n",
            " Transpose)                                                      \n",
            "                                                                 \n",
            " batch_normalization_28 (Bat  (None, 9, 150, 24)       96        \n",
            " chNormalization)                                                \n",
            "                                                                 \n",
            " leaky_re_lu_28 (LeakyReLU)  (None, 9, 150, 24)        0         \n",
            "                                                                 \n",
            " conv2d_transpose_16 (Conv2D  (None, 9, 150, 48)       10368     \n",
            " Transpose)                                                      \n",
            "                                                                 \n",
            " batch_normalization_29 (Bat  (None, 9, 150, 48)       192       \n",
            " chNormalization)                                                \n",
            "                                                                 \n",
            " leaky_re_lu_29 (LeakyReLU)  (None, 9, 150, 48)        0         \n",
            "                                                                 \n",
            " conv2d_transpose_17 (Conv2D  (None, 9, 150, 1)        432       \n",
            " Transpose)                                                      \n",
            "                                                                 \n",
            "=================================================================\n",
            "Total params: 1,901,952\n",
            "Trainable params: 1,901,808\n",
            "Non-trainable params: 144\n",
            "_________________________________________________________________\n"
          ]
        }
      ]
    },
    {
      "cell_type": "code",
      "source": [
        "discriminator = make_discriminator_model()\n",
        "discriminator.summary()"
      ],
      "metadata": {
        "id": "oMeSiVO_ExwQ",
        "colab": {
          "base_uri": "https://localhost:8080/"
        },
        "outputId": "1b80af04-dd74-4a4d-87e3-170b4d09cf51"
      },
      "execution_count": null,
      "outputs": [
        {
          "output_type": "stream",
          "name": "stdout",
          "text": [
            "Model: \"sequential_27\"\n",
            "_________________________________________________________________\n",
            " Layer (type)                Output Shape              Param #   \n",
            "=================================================================\n",
            " dense_32 (Dense)            (None, 512)               179712    \n",
            "                                                                 \n",
            " dropout_33 (Dropout)        (None, 512)               0         \n",
            "                                                                 \n",
            " dense_33 (Dense)            (None, 256)               131328    \n",
            "                                                                 \n",
            " dropout_34 (Dropout)        (None, 256)               0         \n",
            "                                                                 \n",
            " dense_34 (Dense)            (None, 96)                24672     \n",
            "                                                                 \n",
            " dropout_35 (Dropout)        (None, 96)                0         \n",
            "                                                                 \n",
            " dense_35 (Dense)            (None, 1)                 97        \n",
            "                                                                 \n",
            "=================================================================\n",
            "Total params: 335,809\n",
            "Trainable params: 335,809\n",
            "Non-trainable params: 0\n",
            "_________________________________________________________________\n"
          ]
        }
      ]
    },
    {
      "cell_type": "code",
      "source": [
        "autoencoder = keras.Sequential([encoder, decoder])\n",
        "autoencoder.summary()"
      ],
      "metadata": {
        "id": "R2TuFD_NEqIF",
        "colab": {
          "base_uri": "https://localhost:8080/"
        },
        "outputId": "733abe8d-ad5f-40e7-8c95-9c612c59fc35"
      },
      "execution_count": null,
      "outputs": [
        {
          "output_type": "stream",
          "name": "stdout",
          "text": [
            "Model: \"sequential_28\"\n",
            "_________________________________________________________________\n",
            " Layer (type)                Output Shape              Param #   \n",
            "=================================================================\n",
            " sequential_25 (Sequential)  (None, 350)               1902394   \n",
            "                                                                 \n",
            " sequential_26 (Sequential)  (None, 9, 150, 1)         1901952   \n",
            "                                                                 \n",
            "=================================================================\n",
            "Total params: 3,804,346\n",
            "Trainable params: 3,804,050\n",
            "Non-trainable params: 296\n",
            "_________________________________________________________________\n"
          ]
        }
      ]
    },
    {
      "cell_type": "code",
      "source": [
        "encoder_disc = keras.Sequential([encoder, discriminator])\n",
        "encoder_disc.summary()"
      ],
      "metadata": {
        "id": "1OlHU2VqEzcC",
        "colab": {
          "base_uri": "https://localhost:8080/"
        },
        "outputId": "bb637a53-86a7-4683-bf94-e088e125543e"
      },
      "execution_count": null,
      "outputs": [
        {
          "output_type": "stream",
          "name": "stdout",
          "text": [
            "Model: \"sequential_29\"\n",
            "_________________________________________________________________\n",
            " Layer (type)                Output Shape              Param #   \n",
            "=================================================================\n",
            " sequential_25 (Sequential)  (None, 350)               1902394   \n",
            "                                                                 \n",
            " sequential_27 (Sequential)  (None, 1)                 335809    \n",
            "                                                                 \n",
            "=================================================================\n",
            "Total params: 2,238,203\n",
            "Trainable params: 2,238,051\n",
            "Non-trainable params: 152\n",
            "_________________________________________________________________\n"
          ]
        }
      ]
    },
    {
      "cell_type": "code",
      "source": [
        "# After grid search, Adam is choosen because it performs the best\n",
        "\n",
        "a_optimizer = tf.keras.optimizers.Adam(learning_rate=0.0001)\n",
        "g_optimizer = tf.keras.optimizers.Adam(learning_rate=0.0001)\n",
        "d_optimizer = tf.keras.optimizers.Adam(learning_rate=0.00005) "
      ],
      "metadata": {
        "id": "jPXQyNW6Gj_V"
      },
      "execution_count": null,
      "outputs": []
    },
    {
      "cell_type": "code",
      "source": [
        "cross_entropy = tf.keras.losses.BinaryCrossentropy(from_logits=True)\n",
        "mse = tf.keras.losses.MeanSquaredError()\n",
        "@tf.function\n",
        "def compute_autoencoder_loss(x, x_logit):\n",
        "    \"\"\"\n",
        "    Calculate mean square error \n",
        "    between the input of the encoder \n",
        "    and the output of the decoder \n",
        "    \n",
        "    Parameters\n",
        "    ----------\n",
        "    x : Tensor \n",
        "      the input of the encoder\n",
        "    x_logit : Tensor\n",
        "      the output of the decoder\n",
        "\n",
        "    Returns\n",
        "    -------\n",
        "    Tensor\n",
        "      mean squared loss between x and x_logit\n",
        "    \"\"\"  \n",
        "    autoencoder_loss = mse(x, x_logit)\n",
        "    return autoencoder_loss\n",
        "\n",
        "@tf.function\n",
        "def compute_discriminator_loss(fake_output, real_output):\n",
        "    \"\"\"\n",
        "    Calculate cross entropy loss \n",
        "    between random noise and one, \n",
        "    the output of the encoder and zero \n",
        "    \n",
        "    Parameters\n",
        "    ----------\n",
        "    fake_output : Tensor \n",
        "      the result of the discriminator \n",
        "      on the output of the encoder \n",
        "    real_output : Tensor\n",
        "      the result of the discriminator \n",
        "      on the output of random noise\n",
        "      \n",
        "    Returns\n",
        "    -------\n",
        "    Tensor\n",
        "      the discrimination result\n",
        "      on the output of the encoder and random noise\n",
        "    \"\"\"  \n",
        "    real_loss = cross_entropy(tf.ones_like(real_output), real_output)\n",
        "    fake_loss = cross_entropy(tf.zeros_like(fake_output), fake_output)\n",
        "    total_loss = real_loss + fake_loss\n",
        "    return total_loss\n",
        "\n",
        "@tf.function\n",
        "def compute_decoder_loss(fake_output):\n",
        "    \"\"\"\n",
        "    Calculate cross entropy loss \n",
        "    between the output of the encoder and one \n",
        "    \n",
        "    Parameters\n",
        "    ----------\n",
        "    fake_output : Tensor \n",
        "      the result of the discriminator \n",
        "      on the output of the encoder \n",
        "      \n",
        "    Returns\n",
        "    -------\n",
        "    Tensor\n",
        "      the cross entropy loss\n",
        "      between the output of the encoder and one \n",
        "    \"\"\"    \n",
        "    return cross_entropy(tf.ones_like(fake_output), fake_output)\n",
        "\n",
        "autoencoder_mean_loss = tf.keras.metrics.Mean(dtype=tf.float32)\n",
        "decoder_mean_loss = tf.keras.metrics.Mean(dtype=tf.float32)\n",
        "discriminator_mean_loss = tf.keras.metrics.Mean(dtype=tf.float32)"
      ],
      "metadata": {
        "id": "sn7kV_HwTnAE"
      },
      "execution_count": null,
      "outputs": []
    },
    {
      "cell_type": "code",
      "source": [
        "@tf.function\n",
        "def train_step(batch):\n",
        "    # Autoencoder update\n",
        "    with tf.GradientTape() as ae_tape:\n",
        "        encoder_output = encoder(batch, training=True)\n",
        "        decoder_output = decoder(encoder_output, training=True)\n",
        "        autoencoder_loss = compute_autoencoder_loss(batch, decoder_output)\n",
        "\n",
        "    a_gradients = ae_tape.gradient(autoencoder_loss, encoder.trainable_variables + decoder.trainable_variables)\n",
        "    a_optimizer.apply_gradients(zip(a_gradients, encoder.trainable_variables + decoder.trainable_variables))\n",
        "\n",
        "    # Discriminator update\n",
        "    with tf.GradientTape() as d_tape:\n",
        "        z = encoder(batch, training=True)\n",
        "        true_z = tf.random.normal(shape=(z.shape))\n",
        "        fake_output = discriminator(z, training=True)\n",
        "        true_output = discriminator(true_z, training=True)\n",
        "        discriminator_loss = compute_discriminator_loss(fake_output, true_output)\n",
        "    d_gradients = d_tape.gradient(discriminator_loss, discriminator.trainable_variables)\n",
        "    d_optimizer.apply_gradients(zip(d_gradients, discriminator.trainable_variables))\n",
        "\n",
        "    # Decoder update\n",
        "    with tf.GradientTape() as g_tape:\n",
        "        z = encoder(batch, training=True)\n",
        "        fake_output = discriminator(z, training=True)\n",
        "        decoder_loss = compute_decoder_loss(fake_output)\n",
        "    g_gradients = g_tape.gradient(decoder_loss, encoder.trainable_variables)\n",
        "    g_optimizer.apply_gradients(zip(g_gradients, encoder.trainable_variables))\n",
        "\n",
        "    autoencoder_mean_loss(autoencoder_loss)\n",
        "    decoder_mean_loss(decoder_loss)\n",
        "    discriminator_mean_loss(discriminator_loss)"
      ],
      "metadata": {
        "id": "E-2HsYLAGfDA"
      },
      "execution_count": null,
      "outputs": []
    },
    {
      "cell_type": "code",
      "source": [
        "def train(dataset, epochs):\n",
        "    hist = []\n",
        "    aeloss = []\n",
        "    for epoch in range(epochs):\n",
        "        print(\"Epoch {}/{}\".format(epoch + 1, epochs))   \n",
        "        for batch in dataset:\n",
        "          train_step(batch)\n",
        "\n",
        "        hist.append([decoder_mean_loss.result().numpy(), discriminator_mean_loss.result().numpy()])\n",
        "        aeloss.append(autoencoder_mean_loss.result().numpy())\n",
        "\n",
        "        # Resets metric state variables.\n",
        "        decoder_mean_loss.reset_states()\n",
        "        discriminator_mean_loss.reset_states()\n",
        "        autoencoder_mean_loss.reset_states()\n",
        "\n",
        "        print(\"encoder loss: \", hist[-1][0],\" - \", \"discriminator loss: \", hist[-1][1])\n",
        "        print(\"autoencoder loss: \", aeloss[-1])\n",
        "        \n",
        "        if epoch > 0 and (epoch+1)%1000 == 0:\n",
        "            # Plot loss\n",
        "            print('Loss: ')\n",
        "            fig, ax = plt.subplots(1,1, figsize=[20,10])\n",
        "            ax.plot(hist)\n",
        "            ax.legend(['loss_enc', 'loss_disc'])\n",
        "            ax.grid()\n",
        "            plt.show()\n",
        "        \n",
        "    return hist, aeloss"
      ],
      "metadata": {
        "id": "5C6YknEMGfJv"
      },
      "execution_count": null,
      "outputs": []
    },
    {
      "cell_type": "code",
      "source": [
        "hist, autoencoder_loss = train(X_train, epochs=10000)"
      ],
      "metadata": {
        "id": "m_E98WVLP8-n"
      },
      "execution_count": null,
      "outputs": []
    },
    {
      "cell_type": "code",
      "source": [
        "a = copy.deepcopy(hist)\n",
        "losses = copy.deepcopy(hist)\n",
        "a = np.array(a)\n",
        "print(a.shape)\n",
        "print(autoencoder_loss[0])\n",
        "for i in range(len(hist)):\n",
        "  losses[i].append(autoencoder_loss[i])\n",
        "\n",
        "losses_arr = np.array(losses)\n",
        "losses_arr.shape"
      ],
      "metadata": {
        "id": "-evKGMH4ABZt",
        "colab": {
          "base_uri": "https://localhost:8080/"
        },
        "outputId": "425443b9-5736-4cd1-c645-d6bba29caba6"
      },
      "execution_count": null,
      "outputs": [
        {
          "output_type": "stream",
          "name": "stdout",
          "text": [
            "(8000, 2)\n",
            "0.07357219\n"
          ]
        },
        {
          "output_type": "execute_result",
          "data": {
            "text/plain": [
              "(8000, 3)"
            ]
          },
          "metadata": {},
          "execution_count": 88
        }
      ]
    },
    {
      "cell_type": "code",
      "source": [
        "fig, ax = plt.subplots(1,1, figsize=[16,8])\n",
        "ax.plot(autoencoder_loss)\n",
        "ax.legend(['loss_autoencoder'])\n",
        "ax.set_yscale('log')\n",
        "ax.grid()\n",
        "plt.savefig(\"/content/drive/MyDrive/output_files/Figures/Figures_without_DA/Training/autoencoder_loss.png\")"
      ],
      "metadata": {
        "id": "ONvFJR0wVCo8",
        "colab": {
          "base_uri": "https://localhost:8080/",
          "height": 483
        },
        "outputId": "937b8e7b-221e-4a9f-d44a-a724355b1033"
      },
      "execution_count": null,
      "outputs": [
        {
          "output_type": "display_data",
          "data": {
            "text/plain": [
              "<Figure size 1152x576 with 1 Axes>"
            ],
            "image/png": "[encoded data removed]"
          },
          "metadata": {
            "needs_background": "light"
          }
        }
      ]
    },
    {
      "cell_type": "code",
      "source": [
        "fig, ax = plt.subplots(1,1, figsize=[16,8])\n",
        "ax.plot(hist)\n",
        "ax.legend(['loss_enc', 'loss_disc'])\n",
        "ax.grid()\n",
        "plt.savefig(\"/content/drive/MyDrive/output_files/Figures/Figures_without_DA/Training/enc_disc_loss.png\")"
      ],
      "metadata": {
        "id": "XzwW9v6-qFBS",
        "colab": {
          "base_uri": "https://localhost:8080/",
          "height": 483
        },
        "outputId": "e0997a6b-b65a-4ed6-fadc-ee3f81cfb473"
      },
      "execution_count": null,
      "outputs": [
        {
          "output_type": "display_data",
          "data": {
            "text/plain": [
              "<Figure size 1152x576 with 1 Axes>"
            ],
            "image/png": "[encoded data removed]"
          },
          "metadata": {
            "needs_background": "light"
          }
        }
      ]
    },
    {
      "cell_type": "code",
      "source": [
        "fig, ax = plt.subplots(1,2, figsize=[24,6])\n",
        "ax[0].plot(hist)\n",
        "ax[0].legend(['loss_enc', 'loss_disc'])\n",
        "ax[0].grid()\n",
        "ax[1].plot(autoencoder_loss)\n",
        "ax[1].legend(['loss_autoencoder'])\n",
        "ax[1].set_yscale('log')\n",
        "ax[1].grid()\n",
        "\n",
        "plt.savefig(\"/content/drive/MyDrive/output_files/Figures/Figures_without_DA/Training/losses.png\")"
      ],
      "metadata": {
        "id": "0RgfBvJxdusq",
        "colab": {
          "base_uri": "https://localhost:8080/",
          "height": 374
        },
        "outputId": "8449c0e1-6c2f-4620-81d2-7d15acc2006c"
      },
      "execution_count": null,
      "outputs": [
        {
          "output_type": "display_data",
          "data": {
            "text/plain": [
              "<Figure size 1728x432 with 2 Axes>"
            ],
            "image/png": "[encoded data removed]"
          },
          "metadata": {
            "needs_background": "light"
          }
        }
      ]
    },
    {
      "cell_type": "code",
      "source": [
        "joblib.dump(scaler_minmax, '/content/drive/MyDrive/output_files/scalers/node_data/scaler_without_DA/scaler_minmax01.pkl')\n",
        "autoencoder.save('/content/drive/MyDrive/output_files/Models/without_sensor/autoencoder_default.h5')\n",
        "encoder_disc.save('/content/drive/MyDrive/output_files/Models/without_sensor/encoder_disc_default.h5')"
      ],
      "metadata": {
        "id": "UMmVsj14d78z",
        "colab": {
          "base_uri": "https://localhost:8080/"
        },
        "outputId": "b6fb562b-8a06-443d-bcd5-2dda8d693680"
      },
      "execution_count": null,
      "outputs": [
        {
          "output_type": "stream",
          "name": "stderr",
          "text": [
            "WARNING:tensorflow:Compiled the loaded model, but the compiled metrics have yet to be built. `model.compile_metrics` will be empty until you train or evaluate the model.\n",
            "WARNING:tensorflow:Compiled the loaded model, but the compiled metrics have yet to be built. `model.compile_metrics` will be empty until you train or evaluate the model.\n"
          ]
        }
      ]
    },
    {
      "cell_type": "code",
      "source": [],
      "metadata": {
        "id": "znFEhtfpaA58"
      },
      "execution_count": null,
      "outputs": []
    }
  ]
}