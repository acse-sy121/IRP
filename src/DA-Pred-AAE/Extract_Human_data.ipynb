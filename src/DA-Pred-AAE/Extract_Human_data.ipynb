{
  "nbformat": 4,
  "nbformat_minor": 0,
  "metadata": {
    "colab": {
      "provenance": [],
      "collapsed_sections": [],
      "machine_shape": "hm",
      "background_execution": "on"
    },
    "kernelspec": {
      "name": "python3",
      "display_name": "Python 3"
    },
    "language_info": {
      "name": "python"
    },
    "gpuClass": "standard"
  },
  "cells": [
    {
      "cell_type": "markdown",
      "source": [
        "==============================\\\n",
        "Student name: Shiqi Yin \\\n",
        "GitHub username: acse-sy121\\\n",
        "\\=============================="
      ],
      "metadata": {
        "id": "3qWeWcTWt_pT"
      }
    },
    {
      "cell_type": "code",
      "source": [
        "!pip install -q vtk"
      ],
      "metadata": {
        "id": "XJlrBAXtKKs7"
      },
      "execution_count": null,
      "outputs": []
    },
    {
      "cell_type": "code",
      "source": [
        "from google.colab import drive\n",
        "drive.mount('/content/drive')"
      ],
      "metadata": {
        "colab": {
          "base_uri": "https://localhost:8080/"
        },
        "id": "m5cvyIIYK1MA",
        "outputId": "b2859c1c-118d-444d-df72-dc1da4894f98"
      },
      "execution_count": null,
      "outputs": [
        {
          "output_type": "stream",
          "name": "stdout",
          "text": [
            "Drive already mounted at /content/drive; to attempt to forcibly remount, call drive.mount(\"/content/drive\", force_remount=True).\n"
          ]
        }
      ]
    },
    {
      "cell_type": "code",
      "execution_count": null,
      "metadata": {
        "id": "F8VnEYqdHYvX"
      },
      "outputs": [],
      "source": [
        "import numpy as np\n",
        "import matplotlib.pyplot as plt\n",
        "from math  import *\n",
        "import datetime, time\n",
        "import pprint as pprint\n",
        "import vtk\n",
        "import os\n",
        "os.chdir(\"/content/drive/MyDrive\")\n",
        "import vtktools\n",
        "import joblib"
      ]
    },
    {
      "cell_type": "code",
      "source": [
        "root_path = ''\n",
        "\n",
        "times = 720\n",
        "nNodes = 192060\n",
        "\n",
        "\n",
        "y1 = 1.4\n",
        "\n",
        "# --------------------------#\n",
        "# -- Coordinates Fluidity --#\n",
        "#---------------------------#\n",
        "\n",
        "\n",
        "p1 = [4.5, y1, 1]\n",
        "p2 = [5.0, y1, 1]\n",
        "p3 = [5.4, y1, 1]\n",
        "p4 = [5.8, y1, 1]\n",
        "p5 = [6.3, y1, 1]\n",
        "p6 = [6.8, y1, 1]\n",
        "p7 = [7.2, y1, 1]\n",
        "p8 = [7.7, y1, 1]\n",
        "p9 = [6.3, 4.0, 1]\n",
        "p10 = [6.3, 3.5, 1]\n",
        "p11 = [6.5, 3.0, 1]\n",
        "p12 = [7.0, 3.0, 1]\n",
        "p13 = [6.8, 3.5, 1]\n",
        "p14 = [6.8, 4.0, 1]\n",
        "p15 = [4.5, 5.6, 1]\n",
        "p16 = [4.5, 5.1, 1]\n",
        "p17 = [4.6, 4.7, 1]\n",
        "p18 = [5.0, 4.7, 1]\n",
        "p19 = [5.0, 5.0, 1]\n",
        "p20 = [5.0, 5.5, 1]\n",
        "p21 = [8.2, 5.4, 1]\n",
        "p22 = [8.2, 4.8, 1]\n",
        "p23 = [8.4, 4.4, 1]\n",
        "p24 = [8.8, 4.8, 1]\n",
        "p25 = [8.8, 4.8, 1]\n",
        "p26 = [8.8, 5.3, 1]\n",
        "p27 = [7.2, 5.6, 1.5]\n",
        "\n",
        "coordinates = np.array([p1, p2, p3, p4, p5, p6, \n",
        "             p7, p8, p9, p10, p11, p12, \n",
        "             p13, p14, p15, p16, p17, \n",
        "             p18, p19, p20, p21, p22, \n",
        "             p23, p24, p25, p26, p27])\n",
        "\n",
        "print ('\\n Coordinates Concentration ::')\n",
        "print (coordinates)"
      ],
      "metadata": {
        "id": "oLAu5ip-JZEC",
        "colab": {
          "base_uri": "https://localhost:8080/"
        },
        "outputId": "d60ffe58-b5db-4894-e6e9-deaae6392d46"
      },
      "execution_count": null,
      "outputs": [
        {
          "output_type": "stream",
          "name": "stdout",
          "text": [
            "\n",
            " Coordinates Concentration ::\n",
            "[[4.5 1.4 1. ]\n",
            " [5.  1.4 1. ]\n",
            " [5.4 1.4 1. ]\n",
            " [5.8 1.4 1. ]\n",
            " [6.3 1.4 1. ]\n",
            " [6.8 1.4 1. ]\n",
            " [7.2 1.4 1. ]\n",
            " [7.7 1.4 1. ]\n",
            " [6.3 4.  1. ]\n",
            " [6.3 3.5 1. ]\n",
            " [6.5 3.  1. ]\n",
            " [7.  3.  1. ]\n",
            " [6.8 3.5 1. ]\n",
            " [6.8 4.  1. ]\n",
            " [4.5 5.6 1. ]\n",
            " [4.5 5.1 1. ]\n",
            " [4.6 4.7 1. ]\n",
            " [5.  4.7 1. ]\n",
            " [5.  5.  1. ]\n",
            " [5.  5.5 1. ]\n",
            " [8.2 5.4 1. ]\n",
            " [8.2 4.8 1. ]\n",
            " [8.4 4.4 1. ]\n",
            " [8.8 4.8 1. ]\n",
            " [8.8 4.8 1. ]\n",
            " [8.8 5.3 1. ]\n",
            " [7.2 5.6 1.5]]\n"
          ]
        }
      ]
    },
    {
      "cell_type": "code",
      "source": [
        "#--------------------------------------------------#\n",
        "#--  Function to initialise vtk files   --#\n",
        "#--------------------------------------------------#\n",
        "def Initialisation(filename):\n",
        "    '''\n",
        "      This function initialises the vtk file\n",
        "      Parameters\n",
        "      ----------\n",
        "    \n",
        "      filename : string\n",
        "        The filename of the vtk file\n",
        "\n",
        "      Returns\n",
        "      ---------\n",
        "\n",
        "      ugrid \n",
        "      \n",
        "    '''\n",
        "    # Read file\n",
        "    print ('     Read file')\n",
        "    if filename[-4:] == \".vtu\":\n",
        "        gridreader=vtk.vtkXMLUnstructuredGridReader()\n",
        "    elif filename[-5:] == \".pvtu\":\n",
        "        gridreader=vtk.vtkXMLPUnstructuredGridReader()\n",
        "    gridreader.SetFileName(filename)\n",
        "    gridreader.Update()\n",
        "    ugrid=gridreader.GetOutput()\n",
        "\n",
        "    return ugrid\n",
        "\n",
        "#-------------------------------------------------#\n",
        "#-- Function to initialise probe filter  --#\n",
        "#-------------------------------------------------#\n",
        "def InitialisePointData(ugrid, coordinates):\n",
        "\n",
        "    # Initialise probe\n",
        "    points = vtk.vtkPoints()\n",
        "    points.SetDataTypeToDouble()\n",
        "\n",
        "    # Create points to be extracted\n",
        "    print ('     Gathering  coordinates')\n",
        "    NrbPoints = 0\n",
        "    for nodeID in range(len(coordinates)):\n",
        "        NrbPoints += 1\n",
        "        points.InsertNextPoint(coordinates[nodeID][0], coordinates[nodeID][1], coordinates[nodeID][2])\n",
        "\n",
        "    print ('           Set points into data...')\n",
        "    polydata = vtk.vtkPolyData()\n",
        "    polydata.SetPoints(points)\n",
        "    probe = vtk.vtkProbeFilter()\n",
        "\n",
        "    print ('           Map data into probe...', 'VTK version ::', vtk.vtkVersion.GetVTKMajorVersion(),'.', vtk.vtkVersion.GetVTKMinorVersion())\n",
        "    if vtk.vtkVersion.GetVTKMajorVersion() <= 5:\n",
        "        probe.SetInput(polydata)\n",
        "        probe.SetSource(ugrid)\n",
        "    else:\n",
        "        probe.SetInputData(polydata)\n",
        "        probe.SetSourceData(ugrid)\n",
        "\n",
        "    probe.Update()\n",
        "    \n",
        "    return probe, points, NrbPoints\n",
        "#-------------------------------------------------#\n",
        "#-- Function to initialise cell filter           -#\n",
        "#-------------------------------------------------#\n",
        "def InitialiseCellLocator(ugrid):\n",
        "\n",
        "    # Initialise locator\n",
        "    print ('     Initialise cell Locator')\n",
        "    CellLocator = vtk.vtkCellLocator()\n",
        "    CellLocator.SetDataSet(ugrid)\n",
        "    CellLocator.Update()\n",
        "    \n",
        "    return CellLocator"
      ],
      "metadata": {
        "id": "EG6J5qGcJWaz"
      },
      "execution_count": null,
      "outputs": []
    },
    {
      "cell_type": "code",
      "source": [
        "#---------------------------------------------------------------------\n",
        "# EXTRACT DATA\n",
        "#---------------------------------------------------------------------\n",
        "def load_coord_data(filename, fields_list):\n",
        "    \n",
        "    #-- Fields\n",
        "    FIELDS = []\n",
        "\n",
        "    for f in range(len(fields_list)):\n",
        "        tic = time.time()\n",
        "        #-- CO2\n",
        "        CO2     = []\n",
        "        #-- Time\n",
        "        TimeVTU = []\n",
        "        r = 0\n",
        "        CO2.append([])\n",
        "        fieldname = fields_list[f]\n",
        "        # print(fieldname)\n",
        "        # Read file\n",
        "        ugrid = Initialisation(filename)\n",
        "        # Initialise probe\n",
        "        probe, points, NrbPoints = InitialisePointData(ugrid, coordinates)\n",
        "        # Initialise cell location\n",
        "        CellLocator = InitialiseCellLocator(ugrid)\n",
        "        #-- Check Validity of points\n",
        "        # print ('           Check point Validity')\n",
        "        valid_ids = probe.GetOutput().GetPointData().GetArray('vtkValidPointMask')\n",
        "        validPoints = vtktools.arr([valid_ids.GetTuple1(i) for i in range(NrbPoints)])\n",
        "        # print ('           ... ', len(validPoints)-np.sum(validPoints), 'invalid points')\n",
        "        # Extract data\n",
        "        # print ('     Extract Data')\n",
        "        for nodeID in range(len(coordinates)):\n",
        "            # If valid point, extract using probe,\n",
        "            # Otherwise extract the cell:\n",
        "            #    If no cell associated - then it is really a non-valid point outside the domain\n",
        "            #    Otherwise: do the average over the cell values - this provide the tracer value.\n",
        "            # We need to do that as it is a well-known bug in vtk libraries - sometimes it returns an invalid node while it is not...\n",
        "            if validPoints[nodeID] == 1:\n",
        "                tmp = probe.GetOutput().GetPointData().GetArray(fieldname).GetTuple(nodeID)\n",
        "                CO2[r].append(tmp)\n",
        "            else:\n",
        "                coord_tmp = np.array(points.GetPoint(nodeID))\n",
        "                cellID =  CellLocator.FindCell(coord_tmp) # cell ID which contains the node\n",
        "                idlist=vtk.vtkIdList()\n",
        "                ugrid.GetCellPoints(cellID, idlist)\n",
        "                pointsID_to_cellID = np.array([idlist.GetId(k) for k in range(idlist.GetNumberOfIds())]) # give all the points asociated with this cell\n",
        "                if len(pointsID_to_cellID) == 0: # Non-valid points - We assign negative value - like that we know we are outside the domain\n",
        "                    CO2[r].append(-1e20)\n",
        "                else:\n",
        "                    tmp = 0\n",
        "                    for pointID in pointsID_to_cellID:\n",
        "                        tmp += ugrid.GetPointData().GetArray(fieldname).GetTuple(pointID)[0]\n",
        "                    tmp = tmp/len(pointsID_to_cellID)\n",
        "                    CO2[r].append(tmp)\n",
        "            # print(\"nodeID: \", valid_ids)\n",
        "\n",
        "        # Time\n",
        "        # time_tmp = probe.GetOutput().GetPointData().GetArray('Time').GetValue(0)\n",
        "        # TimeVTU.append(time_tmp)\n",
        "        # print ('      Time ::', time_tmp)\n",
        "        # print ('      CO2  ::', CO2[r])\n",
        "\n",
        "        r += 1\n",
        "\n",
        "        # print ('\\n Time in (s) ::')\n",
        "        # print (TimeVTU)    \n",
        "        # np.savetxt('TimeVTU.dat',TimeVTU)\n",
        "\n",
        "        print ('\\n CO2 ::')\n",
        "        CO2 = np.array(CO2)\n",
        "        # print (CO2)\n",
        "        # CO2_all = [np.array(TimeVTU)]\n",
        "        # CO2_all = np.transpose(np.append(CO2_all, np.transpose(CO2), axis = 0))\n",
        "\n",
        "        # joblib.dump(CO2, '/content/gdrive/MyDrive/ACSE-9/models/sensor_CO2_410.pkl') #CO2 data -> ( nSnapshot x 7(sensors) )\n",
        "        # joblib.dump(CO2_all, '/content/gdrive/MyDrive/ACSE-9/models/CO2_Fluidity_410.pkl') #with the time column\n",
        "        # joblib.dump(CO2, '/content/gdrive/MyDrive/ACSE-9/models/sensor_CO2_all.pkl') #CO2 data -> ALL time levels\n",
        "\n",
        "        toc = time.time()\n",
        "\n",
        "        # print ('\\n\\nTime : ', toc - tic, 'sec')\n",
        "\n",
        "        FIELDS.append(CO2)\n",
        "\n",
        "    FIELDS = np.array(FIELDS)\n",
        "\n",
        "    return FIELDS\n"
      ],
      "metadata": {
        "id": "6SlmgUStItMB"
      },
      "execution_count": null,
      "outputs": []
    },
    {
      "cell_type": "code",
      "source": [
        "# The path where the vtu files are located\n",
        "path = '/content/drive/MyDrive/Cotrace_fixed_final/' \n",
        "# path = '/content/drive/MyDrive/output_files/vtu_files/case_1/'\n",
        "# path = '/content/drive/MyDrive/output_files/vtu_files/case_2/'\n",
        "# The prefix of the file name of the vtu file\n",
        "name_simu = 'output'\n",
        "\n",
        "fields_list = ['Tracer', 'Virus1']"
      ],
      "metadata": {
        "id": "i2p7WC64DcJT"
      },
      "execution_count": null,
      "outputs": []
    },
    {
      "cell_type": "code",
      "source": [
        "vtu_start = 577 #361\n",
        "vtu_end   = 720\n",
        "vtu_step  = 1\n",
        "\n",
        "\n",
        "results = []\n",
        "for t in range(vtu_start, vtu_end+1, vtu_step):\n",
        "    filename = path + 'Cotrace_fixed_{}'.format(t) + '.vtu'\n",
        "    # filename = path + 'output_{}'.format(t) + '.vtu'\n",
        "    print(filename)\n",
        "    result = load_coord_data(filename, fields_list)\n",
        "    results.append(result)\n",
        "results_array = np.array(results)\n",
        "\n",
        "\n",
        "# results_array = results_array.reshape(120, 5, 18)"
      ],
      "metadata": {
        "id": "A0VbVnVJIjKo"
      },
      "execution_count": null,
      "outputs": []
    },
    {
      "cell_type": "code",
      "source": [
        "print(results_array.shape)"
      ],
      "metadata": {
        "id": "cTupXRYXKXQR",
        "colab": {
          "base_uri": "https://localhost:8080/"
        },
        "outputId": "b3e6e3ed-3a56-4255-f9db-720a895c5116"
      },
      "execution_count": null,
      "outputs": [
        {
          "output_type": "stream",
          "name": "stdout",
          "text": [
            "(144, 2, 1, 27, 1)\n"
          ]
        }
      ]
    },
    {
      "cell_type": "code",
      "source": [
        "results_final = results_array[:,:,0,:,0]"
      ],
      "metadata": {
        "id": "K6gC7GUBf0z2"
      },
      "execution_count": null,
      "outputs": []
    },
    {
      "cell_type": "code",
      "source": [
        "results_final.shape"
      ],
      "metadata": {
        "id": "x2RcpNVygAIm",
        "colab": {
          "base_uri": "https://localhost:8080/"
        },
        "outputId": "a7b17c24-11fd-4b5b-8587-65c8a5a648a9"
      },
      "execution_count": null,
      "outputs": [
        {
          "output_type": "execute_result",
          "data": {
            "text/plain": [
              "(144, 2, 27)"
            ]
          },
          "metadata": {},
          "execution_count": 11
        }
      ]
    },
    {
      "cell_type": "markdown",
      "source": [
        "Prediction data of CO2 concentration level and viral load for case 1"
      ],
      "metadata": {
        "id": "X1LF9nSKwM5y"
      }
    },
    {
      "cell_type": "code",
      "source": [
        "# np.save('/content/drive/MyDrive/Pred_data.npy',results_final)"
      ],
      "metadata": {
        "id": "75-S6IwNTxpy"
      },
      "execution_count": null,
      "outputs": []
    },
    {
      "cell_type": "markdown",
      "source": [
        "Real data of CO2 concentration level and viral load for case 1"
      ],
      "metadata": {
        "id": "OATxP0o3wQyQ"
      }
    },
    {
      "cell_type": "code",
      "source": [
        "# np.save('/content/drive/MyDrive/CFD_data.npy',results_final)"
      ],
      "metadata": {
        "id": "3WxFSsSUgNHh"
      },
      "execution_count": null,
      "outputs": []
    },
    {
      "cell_type": "markdown",
      "source": [
        "Prediction data of CO2 concentration level and viral load for Scenario 2"
      ],
      "metadata": {
        "id": "cdTR0eaDvzxb"
      }
    },
    {
      "cell_type": "code",
      "source": [
        "# np.save('/content/drive/MyDrive/output_files/DATA/Human_prediction/Case_2/Pred_data.npy',results_final)"
      ],
      "metadata": {
        "id": "i8QspxdWxohR"
      },
      "execution_count": null,
      "outputs": []
    },
    {
      "cell_type": "markdown",
      "source": [
        "Real data of CO2 concentration level and viral load for Scenario 2"
      ],
      "metadata": {
        "id": "kEK_FKcPvxL8"
      }
    },
    {
      "cell_type": "code",
      "source": [
        "np.save('/content/drive/MyDrive/output_files/DATA/Human_prediction/Case_2/CFD_data.npy',results_final)"
      ],
      "metadata": {
        "id": "1woz4SqXxJlv"
      },
      "execution_count": null,
      "outputs": []
    },
    {
      "cell_type": "code",
      "source": [],
      "metadata": {
        "id": "TmyEnB3U5NM-"
      },
      "execution_count": null,
      "outputs": []
    }
  ]
}