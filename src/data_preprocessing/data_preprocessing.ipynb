{
  "nbformat": 4,
  "nbformat_minor": 0,
  "metadata": {
    "colab": {
      "provenance": [],
      "collapsed_sections": [],
      "machine_shape": "hm",
      "background_execution": "on"
    },
    "kernelspec": {
      "name": "python3",
      "display_name": "Python 3"
    },
    "language_info": {
      "name": "python"
    },
    "gpuClass": "standard"
  },
  "cells": [
    {
      "cell_type": "markdown",
      "source": [
        "==============================\\\n",
        "Student name: Shiqi Yin \\\n",
        "GitHub username: acse-sy121\\\n",
        "\\=============================="
      ],
      "metadata": {
        "id": "3qWeWcTWt_pT"
      }
    },
    {
      "cell_type": "code",
      "execution_count": null,
      "metadata": {
        "id": "hC7v7P6y_6sc",
        "colab": {
          "base_uri": "https://localhost:8080/"
        },
        "outputId": "a962c803-44e8-400b-8c8f-670241189304"
      },
      "outputs": [
        {
          "output_type": "stream",
          "name": "stdout",
          "text": [
            "Mounted at /content/drive\n"
          ]
        }
      ],
      "source": [
        "from google.colab import drive\n",
        "drive.mount('/content/drive')"
      ]
    },
    {
      "cell_type": "code",
      "source": [
        "!pip -q install vtk"
      ],
      "metadata": {
        "id": "DgRYZw6V_-0V",
        "colab": {
          "base_uri": "https://localhost:8080/"
        },
        "outputId": "e5235b3d-a19d-4e55-dd7f-67d863fa6a4b"
      },
      "execution_count": null,
      "outputs": [
        {
          "output_type": "stream",
          "name": "stdout",
          "text": [
            "\u001b[K     |████████████████████████████████| 88.3 MB 148 kB/s \n",
            "\u001b[?25h"
          ]
        }
      ]
    },
    {
      "cell_type": "code",
      "source": [
        "import sys\n",
        "\n",
        "# Scikit-Learn ≥0.20 is required\n",
        "import sklearn\n",
        "import os\n",
        "os.chdir(\"/content/drive/MyDrive\")\n",
        "# Common imports\n",
        "import numpy as np\n",
        "import vtk\n",
        "import vtktools\n",
        "import time\n",
        "\n",
        "# To plot figures\n",
        "%matplotlib inline\n",
        "import matplotlib as mpl\n",
        "import matplotlib.pyplot as plt\n",
        "mpl.rc('axes', labelsize=14)\n",
        "mpl.rc('xtick', labelsize=12)\n",
        "mpl.rc('ytick', labelsize=12)"
      ],
      "metadata": {
        "id": "RuInH7m__-2R"
      },
      "execution_count": null,
      "outputs": []
    },
    {
      "cell_type": "code",
      "source": [
        "def loadvtufile(path, name_simu, fieldname, vtu_start, vtu_end, vtu_step):\n",
        "    \"\"\"\n",
        "    Read in .vtu files for a particular field\n",
        "    \n",
        "    Parameters\n",
        "    ----------\n",
        "    path : str \n",
        "        path to the folder containing the .vtu files\n",
        "    name_simu : str\n",
        "        name of the simulation data\n",
        "    field_name : str\n",
        "        field to read in e.g. CO2_ppm \n",
        "    vtu_start : int\n",
        "        file number to start reading from  \n",
        "    vtu_end : int\n",
        "        file number to read up to\n",
        "    vtu_step : int\n",
        "        how many files to step across\n",
        "    Returns\n",
        "    -------\n",
        "    numpy.ndarray \n",
        "        Returns the data from a particular field \n",
        "    \"\"\"\n",
        "    tic = time.time()\n",
        "    extension = '.vtu'\n",
        "    all_data = []\n",
        "    #---------------------------------------------------------------------\n",
        "    # EXTRACT DATA\n",
        "    #---------------------------------------------------------------------\n",
        "    for vtuID in range(vtu_start,vtu_end+1,vtu_step):\n",
        "        filename=path+name_simu+'_'+str(vtuID)+extension\n",
        "        print ('\\n  '+str(filename))\n",
        "        vtu_data = vtktools.vtu(filename)\n",
        "        data = vtu_data.GetField(fieldname)\n",
        "        all_data.append(data)\n",
        "        # print(vtuID)\n",
        "    toc = time.time() #added \n",
        "    print ('\\n\\nTime : ', toc - tic, 'sec')\n",
        "    return np.array(all_data)"
      ],
      "metadata": {
        "id": "Jcs5a4FX_-4T"
      },
      "execution_count": null,
      "outputs": []
    },
    {
      "cell_type": "code",
      "source": [
        "#--------------------------------#\n",
        "#-- Choose variables --#\n",
        "#--------------------------------#\n",
        "# The path where the vtu files are located\n",
        "path = '/content/drive/MyDrive/Cotrace_fixed_sparse/' \n",
        "# The prefix of the file name of the vtu file\n",
        "name_simu = 'Cotrace_fixed'\n",
        "vtu_start = 1\n",
        "vtu_end   = 720\n",
        "vtu_step  = 1"
      ],
      "metadata": {
        "id": "h0Cr1Gpc_-6d"
      },
      "execution_count": null,
      "outputs": []
    },
    {
      "cell_type": "code",
      "source": [
        "vtu_data1 = vtktools.vtu('/content/drive/MyDrive/Cotrace_fixed/Cotrace_fixed_6.vtu')\n",
        "field_name = vtu_data1.GetFieldNames()\n",
        "print(field_name)"
      ],
      "metadata": {
        "colab": {
          "base_uri": "https://localhost:8080/"
        },
        "id": "j4aKxtbxHMx7",
        "outputId": "6572e585-f1ab-4504-ab75-6dad844b1211"
      },
      "execution_count": null,
      "outputs": [
        {
          "output_type": "stream",
          "name": "stdout",
          "text": [
            "['Pressure', 'Temperature', 'Tracer', 'TracerInterpolationErrorBound', 'Humidity', 'HumidityInterpolationErrorBound', 'Virus1', 'Virus1InterpolationErrorBound', 'teacher', 'teacherInterpolationErrorBound', 'filter', 'filterSource', 'filterInterpolationErrorBound', 'teacher_f', 'teacher_fInterpolationErrorBound', 'Time', 'Velocity', 'VelocitySource', 'VelocityAbsorption', 'GravityDirection', 'TracerDiffusivity', 'HumidityDiffusivity', 'teacherDiffusivity', 'teacher_fDiffusivity']\n"
          ]
        }
      ]
    },
    {
      "cell_type": "code",
      "source": [
        "data = vtu_data1.GetField('Time')\n",
        "data"
      ],
      "metadata": {
        "id": "OAoH8SYZBqmn"
      },
      "execution_count": null,
      "outputs": []
    },
    {
      "cell_type": "code",
      "source": [
        "# Extract data of 'CO2_ppm' field\n",
        "CO2data_initial = loadvtufile(path, name_simu, 'Tracer', vtu_start, vtu_end, vtu_step)\n",
        "# Extract data of 'Velocity' field\n",
        "Udata = loadvtufile(path, name_simu, 'Velocity', vtu_start, vtu_end, vtu_step)\n",
        "# Extract data of 'Humidity' field\n",
        "Humidity_data = loadvtufile(path, name_simu, 'Humidity', vtu_start, vtu_end, vtu_step)\n",
        "# Extract data of 'Temperature' field\n",
        "Temperature_data = loadvtufile(path, name_simu, 'Temperature', vtu_start, vtu_end, vtu_step)\n",
        "# Extract data of 'Virus1' field\n",
        "Virus1_data = loadvtufile(path, name_simu, 'Virus1', vtu_start, vtu_end, vtu_step)"
      ],
      "metadata": {
        "id": "Hv2NGUlV_-8R"
      },
      "execution_count": null,
      "outputs": []
    },
    {
      "cell_type": "code",
      "source": [
        "import joblib\n",
        "joblib.dump(CO2data_initial, '/content/drive/MyDrive/output_files/DATA/initial_field_data/CO2_initial.pkl')\n",
        "joblib.dump(Udata, '/content/drive/MyDrive/output_files/DATA/initial_field_data/Udata_initial.pkl')\n",
        "joblib.dump(Humidity_data, '/content/drive/MyDrive/output_files/DATA/initial_field_data/Humidity_initial.pkl')\n",
        "joblib.dump(Temperature_data, '/content/drive/MyDrive/output_files/DATA/initial_field_data/Temperature_initial.pkl')\n",
        "joblib.dump(Virus1_data, '/content/drive/MyDrive/output_files/DATA/initial_field_data/Virus1_initial.pkl')"
      ],
      "metadata": {
        "id": "m1t1GFVrce7_",
        "colab": {
          "base_uri": "https://localhost:8080/"
        },
        "outputId": "fc38b13b-39e1-4f63-930d-6e00c01a1dae"
      },
      "execution_count": null,
      "outputs": [
        {
          "output_type": "execute_result",
          "data": {
            "text/plain": [
              "['/content/drive/MyDrive/output_files/DATA/initial_field_data/Virus1_initial.pkl']"
            ]
          },
          "metadata": {},
          "execution_count": 7
        }
      ]
    },
    {
      "cell_type": "code",
      "source": [
        "print(CO2data_initial.shape)"
      ],
      "metadata": {
        "colab": {
          "base_uri": "https://localhost:8080/"
        },
        "id": "F1YE3w1lzs5r",
        "outputId": "484fffd9-ef78-44b8-aa0e-335454dfd4e4"
      },
      "execution_count": null,
      "outputs": [
        {
          "output_type": "stream",
          "name": "stdout",
          "text": [
            "(720, 54363, 1)\n"
          ]
        }
      ]
    },
    {
      "cell_type": "code",
      "source": [
        "import joblib\n",
        "CO2data_initial = joblib.load('/content/drive/MyDrive/output_files/DATA/initial_field_data/CO2_initial.pkl')\n",
        "Udata = joblib.load('/content/drive/MyDrive/output_files/DATA/initial_field_data/Udata_initial.pkl')\n",
        "Humidity_data = joblib.load('/content/drive/MyDrive/output_files/DATA/initial_field_data/Humidity_initial.pkl')\n",
        "Temperature_data = joblib.load('/content/drive/MyDrive/output_files/DATA/initial_field_data/Temperature_initial.pkl')\n",
        "Virus1_data = joblib.load('/content/drive/MyDrive/output_files/DATA/initial_field_data/Virus1_initial.pkl')"
      ],
      "metadata": {
        "id": "IKWYnpZ3fBi2"
      },
      "execution_count": null,
      "outputs": []
    },
    {
      "cell_type": "code",
      "source": [
        "observation = np.load('/content/drive/MyDrive/output_files/DATA/observation.npy')\n",
        "velocity_sensor = np.load('/content/drive/MyDrive/output_files/DATA/observation1.npy')"
      ],
      "metadata": {
        "id": "TPUEy9RLLep6"
      },
      "execution_count": null,
      "outputs": []
    },
    {
      "cell_type": "code",
      "source": [
        "print(velocity_sensor.shape)"
      ],
      "metadata": {
        "colab": {
          "base_uri": "https://localhost:8080/"
        },
        "id": "1LcN8l5yLmZc",
        "outputId": "220e1486-dac7-4a71-cb33-b63cf08ad156"
      },
      "execution_count": null,
      "outputs": [
        {
          "output_type": "stream",
          "name": "stdout",
          "text": [
            "(720, 3, 18)\n"
          ]
        }
      ]
    },
    {
      "cell_type": "code",
      "source": [
        "obs_CO2 = np.array(observation[:,0,:]*1e6)\n",
        "obs_xdata = np.array(velocity_sensor[:,0,:])\n",
        "obs_ydata = np.array(velocity_sensor[:,1,:])\n",
        "obs_zdata = np.array(velocity_sensor[:,2,:])\n",
        "obs_Humidity = np.array(observation[:,1,:])\n",
        "obs_Temperature = np.array(observation[:,2,:])\n",
        "obs_Virus1 = np.array(observation[:,3,:])"
      ],
      "metadata": {
        "id": "8Rfa9FMfoLE3"
      },
      "execution_count": null,
      "outputs": []
    },
    {
      "cell_type": "code",
      "source": [
        "# obs_CO2 = np.array(observation[0,:,:]*1e6)\n",
        "# obs_xdata = np.array(observation[1,:,:])\n",
        "# obs_ydata = np.array(observation[2,:,:])\n",
        "# obs_zdata = np.array(observation[3,:,:])\n",
        "# obs_Humidity = np.array(observation[4,:,:])\n",
        "# obs_Temperature = np.array(observation[5,:,:])\n",
        "# obs_Virus1 = np.array(observation[6,:,:])"
      ],
      "metadata": {
        "id": "ZFG3qhh9rXbl"
      },
      "execution_count": null,
      "outputs": []
    },
    {
      "cell_type": "code",
      "source": [
        "xdata = Udata[:,:,0]\n",
        "ydata = Udata[:,:,1]\n",
        "zdata = Udata[:,:,2]"
      ],
      "metadata": {
        "id": "WLKv23i48UV9"
      },
      "execution_count": null,
      "outputs": []
    },
    {
      "cell_type": "code",
      "source": [
        "CO2data_initial[CO2data_initial < 0] = 0\n",
        "CO2data = CO2data_initial * 1e6\n",
        "print(CO2data.max())\n",
        "print(CO2data.min())\n",
        "print(CO2data.mean())\n",
        "print(CO2data.shape)"
      ],
      "metadata": {
        "id": "fL8Qfi5NOEvx",
        "colab": {
          "base_uri": "https://localhost:8080/"
        },
        "outputId": "1885aac2-479d-4b92-fa9d-352af3dbec35"
      },
      "execution_count": null,
      "outputs": [
        {
          "output_type": "stream",
          "name": "stdout",
          "text": [
            "28874.514624476433\n",
            "411.89027251675725\n",
            "1168.2874822477463\n",
            "(720, 54363, 1)\n"
          ]
        }
      ]
    },
    {
      "cell_type": "code",
      "source": [
        "def data_reshape(dataset):\n",
        "  nfiles = dataset.shape[0]\n",
        "  nNodes = dataset.shape[1]\n",
        "  reshape_data = dataset.reshape((nfiles, nNodes))\n",
        "  print(\"Dataset shape: \", reshape_data.shape)\n",
        "\n",
        "  return reshape_data"
      ],
      "metadata": {
        "id": "UbQ_jFzgn09A"
      },
      "execution_count": null,
      "outputs": []
    },
    {
      "cell_type": "code",
      "source": [
        "CO2 = data_reshape(CO2data)\n",
        "Humidity = data_reshape(Humidity_data)\n",
        "Temperature = data_reshape(Temperature_data)\n",
        "Virus1 = data_reshape(Virus1_data)"
      ],
      "metadata": {
        "colab": {
          "base_uri": "https://localhost:8080/"
        },
        "id": "1wXgr2SC-Yqw",
        "outputId": "dc390ff0-2108-4b16-c2ba-5aa298e36fa9"
      },
      "execution_count": null,
      "outputs": [
        {
          "output_type": "stream",
          "name": "stdout",
          "text": [
            "Dataset shape:  (720, 54363)\n",
            "Dataset shape:  (720, 54363)\n",
            "Dataset shape:  (720, 54363)\n",
            "Dataset shape:  (720, 54363)\n"
          ]
        }
      ]
    },
    {
      "cell_type": "markdown",
      "source": [
        "The data reshaped is saved in *data_reshaped* folder here."
      ],
      "metadata": {
        "id": "3jDXOq8104t5"
      }
    },
    {
      "cell_type": "code",
      "source": [
        "import joblib\n",
        "joblib.dump(CO2, '/content/drive/MyDrive/output_files/DATA/data_reshaped/CO2data.pkl')\n",
        "joblib.dump(xdata, '/content/drive/MyDrive/output_files/DATA/data_reshaped/xdata.pkl')\n",
        "joblib.dump(ydata, '/content/drive/MyDrive/output_files/DATA/data_reshaped/ydata.pkl')\n",
        "joblib.dump(zdata, '/content/drive/MyDrive/output_files/DATA/data_reshaped/zdata.pkl')\n",
        "joblib.dump(Humidity, '/content/drive/MyDrive/output_files/DATA/data_reshaped/Humidity_data.pkl')\n",
        "joblib.dump(Temperature, '/content/drive/MyDrive/output_files/DATA/data_reshaped/Temperature_data.pkl')\n",
        "joblib.dump(Virus1, '/content/drive/MyDrive/output_files/DATA/data_reshaped/Virus1_data.pkl')\n"
      ],
      "metadata": {
        "colab": {
          "base_uri": "https://localhost:8080/"
        },
        "id": "oImvgjoiKKES",
        "outputId": "6e044b38-0b72-46a0-956a-b770ed2d9cbd"
      },
      "execution_count": null,
      "outputs": [
        {
          "output_type": "execute_result",
          "data": {
            "text/plain": [
              "['/content/drive/MyDrive/output_files/DATA/data_reshaped/Virus1_data.pkl']"
            ]
          },
          "metadata": {},
          "execution_count": 13
        }
      ]
    },
    {
      "cell_type": "code",
      "source": [
        "import joblib\n",
        "CO2 = joblib.load('/content/drive/MyDrive/output_files/DATA/data_reshaped/CO2data.pkl')\n",
        "xdata = joblib.load('/content/drive/MyDrive/output_files/DATA/data_reshaped/xdata.pkl')\n",
        "ydata = joblib.load('/content/drive/MyDrive/output_files/DATA/data_reshaped/ydata.pkl')\n",
        "zdata = joblib.load('/content/drive/MyDrive/output_files/DATA/data_reshaped/zdata.pkl')\n",
        "Humidity = joblib.load('/content/drive/MyDrive/output_files/DATA/data_reshaped/Humidity_data.pkl')\n",
        "Temperature = joblib.load('/content/drive/MyDrive/output_files/DATA/data_reshaped/Temperature_data.pkl')\n",
        "Virus1 = joblib.load('/content/drive/MyDrive/output_files/DATA/data_reshaped/Virus1_data.pkl')"
      ],
      "metadata": {
        "id": "u0a6GeFadePv"
      },
      "execution_count": null,
      "outputs": []
    },
    {
      "cell_type": "code",
      "source": [
        "def train_test_split(field_data):\n",
        "  X_train_array = []\n",
        "  X_test_array = []\n",
        "\n",
        "  for i in range(int(len(field_data)*0.8)):\n",
        "    X_train_array.append(field_data[i])\n",
        "  X_train_array = np.array(X_train_array)\n",
        "\n",
        "  for i in range(int(len(field_data)*0.8),len(field_data)):\n",
        "    X_test_array.append(field_data[i])\n",
        "  X_test_array = np.array(X_test_array)\n",
        "\n",
        "  print(\"Train dataset shape: \", X_train_array.shape)\n",
        "  print(\"Test dataset shape: \", X_test_array.shape)\n",
        "\n",
        "  return X_train_array, X_test_array"
      ],
      "metadata": {
        "id": "xX6OJ7DRpN5l"
      },
      "execution_count": null,
      "outputs": []
    },
    {
      "cell_type": "code",
      "source": [
        "CO2_train_origin, CO2_test_origin = train_test_split(CO2)\n",
        "x_train, x_test = train_test_split(xdata)\n",
        "y_train, y_test = train_test_split(ydata)\n",
        "z_train, z_test = train_test_split(zdata)\n",
        "Humidity_data_train, Humidity_data_test = train_test_split(Humidity)\n",
        "Temperature_data_train, Temperature_data_test = train_test_split(Temperature)\n",
        "Virus1_data_train, Virus1_data_test = train_test_split(Virus1)"
      ],
      "metadata": {
        "id": "njUhOVVTpN7s"
      },
      "execution_count": null,
      "outputs": []
    },
    {
      "cell_type": "code",
      "source": [
        "ob_CO2_train, ob_CO2_test = train_test_split(obs_CO2)\n",
        "ob_xdata_train, ob_xdata_test = train_test_split(obs_xdata)\n",
        "ob_ydata_train, ob_ydata_test = train_test_split(obs_ydata)\n",
        "ob_zdata_train, ob_zdata_test = train_test_split(obs_zdata)\n",
        "ob_Humidity_train, ob_Humidity_test = train_test_split(obs_Humidity)\n",
        "ob_Temperature_train, ob_Temperature_test = train_test_split(obs_Temperature)\n",
        "ob_Virus1_train, ob_Virus1_test = train_test_split(obs_Virus1)"
      ],
      "metadata": {
        "colab": {
          "base_uri": "https://localhost:8080/"
        },
        "id": "OlDi6TRXMPGd",
        "outputId": "6fd64d24-b81e-4af4-c0b4-97ab859cf095"
      },
      "execution_count": null,
      "outputs": [
        {
          "output_type": "stream",
          "name": "stdout",
          "text": [
            "Train dataset shape:  (576, 18)\n",
            "Test dataset shape:  (144, 18)\n",
            "Train dataset shape:  (576, 18)\n",
            "Test dataset shape:  (144, 18)\n",
            "Train dataset shape:  (576, 18)\n",
            "Test dataset shape:  (144, 18)\n",
            "Train dataset shape:  (576, 18)\n",
            "Test dataset shape:  (144, 18)\n",
            "Train dataset shape:  (576, 18)\n",
            "Test dataset shape:  (144, 18)\n",
            "Train dataset shape:  (576, 18)\n",
            "Test dataset shape:  (144, 18)\n",
            "Train dataset shape:  (576, 18)\n",
            "Test dataset shape:  (144, 18)\n"
          ]
        }
      ]
    },
    {
      "cell_type": "code",
      "source": [
        "from sklearn.preprocessing import MinMaxScaler"
      ],
      "metadata": {
        "id": "N4F7QdX5kNdM"
      },
      "execution_count": null,
      "outputs": []
    },
    {
      "cell_type": "code",
      "source": [
        "scaler_CO2 = MinMaxScaler((-1, 1))\n",
        "scaler_x = MinMaxScaler((-1, 1))\n",
        "scaler_y = MinMaxScaler((-1, 1))\n",
        "scaler_z = MinMaxScaler((-1, 1))\n",
        "scaler_Humidity = MinMaxScaler((-1, 1))\n",
        "scaler_Temperature = MinMaxScaler((-1, 1))\n",
        "scaler_Virus1 = MinMaxScaler((-1, 1))\n",
        "\n",
        "scaler_CO2_test = MinMaxScaler((-1, 1))\n",
        "scaler_x_test = MinMaxScaler((-1, 1))\n",
        "scaler_y_test = MinMaxScaler((-1, 1))\n",
        "scaler_z_test = MinMaxScaler((-1, 1))\n",
        "scaler_Humidity_test = MinMaxScaler((-1, 1))\n",
        "scaler_Temperature_test = MinMaxScaler((-1, 1))\n",
        "scaler_Virus1_test = MinMaxScaler((-1, 1))\n",
        "\n",
        "scaler_CO2_all = MinMaxScaler((-1, 1))\n",
        "scaler_x_all = MinMaxScaler((-1, 1))\n",
        "scaler_y_all = MinMaxScaler((-1, 1))\n",
        "scaler_z_all = MinMaxScaler((-1, 1))\n",
        "scaler_Humidity_all = MinMaxScaler((-1, 1))\n",
        "scaler_Temperature_all = MinMaxScaler((-1, 1))\n",
        "scaler_Virus1_all = MinMaxScaler((-1, 1))\n",
        "\n",
        "# Apply transform to these data set.\n",
        "norm_CO2_train = scaler_CO2.fit_transform(CO2_train_origin)\n",
        "norm_x_train = scaler_x.fit_transform(x_train)\n",
        "norm_y_train = scaler_y.fit_transform(y_train)\n",
        "norm_z_train = scaler_z.fit_transform(z_train)\n",
        "norm_Humidity_train = scaler_Humidity.fit_transform(Humidity_data_train)\n",
        "norm_Temperature_train = scaler_Temperature.fit_transform(Temperature_data_train)\n",
        "norm_Virus1_train = scaler_Virus1.fit_transform(Virus1_data_train)\n",
        "\n",
        "norm_CO2_test = scaler_CO2_test.fit_transform(CO2_test_origin)\n",
        "norm_x_test = scaler_x_test.fit_transform(x_test)\n",
        "norm_y_test = scaler_y_test.fit_transform(y_test)\n",
        "norm_z_test = scaler_z_test.fit_transform(z_test)\n",
        "norm_Humidity_test = scaler_Humidity_test.fit_transform(Humidity_data_test)\n",
        "norm_Temperature_test = scaler_Temperature_test.fit_transform(Temperature_data_test)\n",
        "norm_Virus1_test = scaler_Virus1_test.fit_transform(Virus1_data_test)\n",
        "\n",
        "norm_CO2_all = scaler_CO2_all.fit_transform(CO2)\n",
        "norm_x_all = scaler_x_all.fit_transform(xdata)\n",
        "norm_y_all = scaler_y_all.fit_transform(ydata)\n",
        "norm_z_all = scaler_z_all.fit_transform(zdata)\n",
        "norm_Humidity_all = scaler_Humidity_all.fit_transform(Humidity)\n",
        "norm_Temperature_all = scaler_Temperature_all.fit_transform(Temperature)\n",
        "norm_Virus1_all = scaler_Virus1_all.fit_transform(Virus1)\n"
      ],
      "metadata": {
        "id": "vuIHLpkI6fL4"
      },
      "execution_count": null,
      "outputs": []
    },
    {
      "cell_type": "code",
      "source": [
        "train_all_values = np.hstack((norm_CO2_train, norm_x_train, norm_y_train, norm_z_train, norm_Humidity_train, norm_Temperature_train, norm_Virus1_train))\n",
        "test_all_values = np.hstack((norm_CO2_test, norm_x_test, norm_y_test, norm_z_test, norm_Humidity_test, norm_Temperature_test, norm_Virus1_test))\n",
        "all_values = np.hstack((norm_CO2_all, norm_x_all, norm_y_all, norm_z_all, norm_Humidity_all, norm_Temperature_all, norm_Virus1_all))"
      ],
      "metadata": {
        "id": "n5p5dsIwXMHe"
      },
      "execution_count": null,
      "outputs": []
    },
    {
      "cell_type": "code",
      "source": [
        "print(train_all_values.shape)"
      ],
      "metadata": {
        "id": "DHP7kjFPvWoj",
        "colab": {
          "base_uri": "https://localhost:8080/"
        },
        "outputId": "31b4e07e-04f0-490e-819c-9f6183b3df4e"
      },
      "execution_count": null,
      "outputs": [
        {
          "output_type": "stream",
          "name": "stdout",
          "text": [
            "(576, 380541)\n"
          ]
        }
      ]
    },
    {
      "cell_type": "code",
      "source": [
        "scaler_ob_CO2 = MinMaxScaler((0, 1))\n",
        "scaler_ob_xdata = MinMaxScaler((0, 1))\n",
        "scaler_ob_ydata = MinMaxScaler((0, 1))\n",
        "scaler_ob_zdata = MinMaxScaler((0, 1))\n",
        "scaler_ob_Humidity = MinMaxScaler((0, 1))\n",
        "scaler_ob_Temperature = MinMaxScaler((0, 1))\n",
        "scaler_ob_Virus1 = MinMaxScaler((0, 1))\n",
        "\n",
        "scaler_ob_CO2_test = MinMaxScaler((0, 1))\n",
        "scaler_ob_xdata_test = MinMaxScaler((0, 1))\n",
        "scaler_ob_ydata_test = MinMaxScaler((0, 1))\n",
        "scaler_ob_zdata_test = MinMaxScaler((0, 1))\n",
        "scaler_ob_Humidity_test = MinMaxScaler((0, 1))\n",
        "scaler_ob_Temperature_test = MinMaxScaler((0, 1))\n",
        "scaler_ob_Virus1_test = MinMaxScaler((0, 1))\n",
        "\n",
        "scaler_ob_CO2_all = MinMaxScaler((0, 1))\n",
        "scaler_ob_xdata_all = MinMaxScaler((0, 1))\n",
        "scaler_ob_ydata_all = MinMaxScaler((0, 1))\n",
        "scaler_ob_zdata_all = MinMaxScaler((0, 1))\n",
        "scaler_ob_Humidity_all = MinMaxScaler((0, 1))\n",
        "scaler_ob_Temperature_all = MinMaxScaler((0, 1))\n",
        "scaler_ob_Virus1_all = MinMaxScaler((0, 1))"
      ],
      "metadata": {
        "id": "pb0hSAFOMW2E"
      },
      "execution_count": null,
      "outputs": []
    },
    {
      "cell_type": "code",
      "source": [
        "norm_ob_CO2_train = scaler_ob_CO2.fit_transform(ob_CO2_train)\n",
        "norm_ob_x_train = scaler_ob_xdata.fit_transform(ob_xdata_train)\n",
        "norm_ob_y_train = scaler_ob_ydata.fit_transform(ob_ydata_train)\n",
        "norm_ob_z_train = scaler_ob_zdata.fit_transform(ob_zdata_train)\n",
        "norm_ob_Humidity_train = scaler_ob_Humidity.fit_transform(ob_Humidity_train)\n",
        "norm_ob_Temperature_train = scaler_ob_Temperature.fit_transform(ob_Temperature_train)\n",
        "norm_ob_Virus1_train = scaler_ob_Virus1.fit_transform(ob_Virus1_train)\n",
        "\n",
        "norm_ob_CO2_test = scaler_ob_CO2_test.fit_transform(ob_CO2_test)\n",
        "norm_ob_x_test = scaler_ob_xdata_test.fit_transform(ob_xdata_test)\n",
        "norm_ob_y_test = scaler_ob_ydata_test.fit_transform(ob_ydata_test)\n",
        "norm_ob_z_test = scaler_ob_zdata_test.fit_transform(ob_zdata_test)\n",
        "norm_ob_Humidity_test = scaler_ob_Humidity_test.fit_transform(ob_Humidity_test)\n",
        "norm_ob_Temperature_test = scaler_ob_Temperature_test.fit_transform(ob_Temperature_test)\n",
        "norm_ob_Virus1_test = scaler_ob_Virus1_test.fit_transform(ob_Virus1_test)\n",
        "\n",
        "norm_ob_CO2_all = scaler_ob_CO2_all.fit_transform(obs_CO2)\n",
        "norm_ob_x_all = scaler_ob_xdata_all.fit_transform(obs_xdata)\n",
        "norm_ob_y_all = scaler_ob_ydata_all.fit_transform(obs_ydata)\n",
        "norm_ob_z_all = scaler_ob_zdata_all.fit_transform(obs_zdata)\n",
        "norm_ob_Humidity_all = scaler_ob_Humidity_all.fit_transform(obs_Humidity)\n",
        "norm_ob_Temperature_all = scaler_ob_Temperature_all.fit_transform(obs_Temperature)\n",
        "norm_ob_Virus1_all = scaler_ob_Virus1_all.fit_transform(obs_Virus1)"
      ],
      "metadata": {
        "id": "_w0yjiQgMo3D"
      },
      "execution_count": null,
      "outputs": []
    },
    {
      "cell_type": "code",
      "source": [
        "train_ob_all_values = np.hstack((norm_ob_CO2_train, norm_ob_x_train, norm_ob_y_train, norm_ob_z_train, norm_ob_Humidity_train, norm_ob_Temperature_train, norm_ob_Virus1_train))\n",
        "test_ob_all_values = np.hstack((norm_ob_CO2_test, norm_ob_x_test, norm_ob_y_test, norm_ob_z_test, norm_ob_Humidity_test, norm_ob_Temperature_test, norm_ob_Virus1_test))\n",
        "ob_all_values = np.hstack((norm_ob_CO2_all, norm_ob_x_all, norm_ob_y_all, norm_ob_z_all, norm_ob_Humidity_all, norm_ob_Temperature_all, norm_ob_Virus1_all))"
      ],
      "metadata": {
        "id": "OZmbKs_JBzm7"
      },
      "execution_count": null,
      "outputs": []
    },
    {
      "cell_type": "code",
      "source": [
        "print(train_ob_all_values.shape)\n",
        "print(test_ob_all_values.shape)"
      ],
      "metadata": {
        "id": "q2U0jsm6XQ4W",
        "colab": {
          "base_uri": "https://localhost:8080/"
        },
        "outputId": "0d8bbf24-7cea-4b4f-8e07-52389f539cf6"
      },
      "execution_count": null,
      "outputs": [
        {
          "output_type": "stream",
          "name": "stdout",
          "text": [
            "(576, 126)\n",
            "(144, 126)\n"
          ]
        }
      ]
    },
    {
      "cell_type": "code",
      "source": [
        "import joblib\n",
        "# Store the all data in the form of numpy.ndarray\n",
        "joblib.dump(train_all_values, '/content/drive/MyDrive/output_files/DATA/data_used_for_model/snapshot_matrix_train.pkl')\n",
        "joblib.dump(test_all_values, '/content/drive/MyDrive/output_files/DATA/data_used_for_model/snapshot_matrix_test.pkl')\n",
        "joblib.dump(all_values, '/content/drive/MyDrive/output_files/DATA/data_used_for_model/snapshot_matrix.pkl')\n",
        "\n",
        "# Store the scaler to standardise data\n",
        "joblib.dump(scaler_CO2, '/content/drive/MyDrive/output_files/scalers/node_data/scaler_CO2.pkl')\n",
        "joblib.dump(scaler_x, '/content/drive/MyDrive/output_files/scalers/node_data/scaler_x.pkl')\n",
        "joblib.dump(scaler_y, '/content/drive/MyDrive/output_files/scalers/node_data/scaler_y.pkl')\n",
        "joblib.dump(scaler_z, '/content/drive/MyDrive/output_files/scalers/node_data/scaler_z.pkl')\n",
        "joblib.dump(scaler_Humidity, '/content/drive/MyDrive/output_files/scalers/node_data/scaler_Humidity.pkl')\n",
        "joblib.dump(scaler_Temperature, '/content/drive/MyDrive/output_files/scalers/node_data/scaler_Temperature.pkl')\n",
        "joblib.dump(scaler_Virus1, '/content/drive/MyDrive/output_files/scalers/node_data/scaler_Virus1.pkl')\n",
        "\n",
        "joblib.dump(scaler_CO2_test, '/content/drive/MyDrive/output_files/scalers/node_data/scaler_CO2_test.pkl')\n",
        "joblib.dump(scaler_x_test, '/content/drive/MyDrive/output_files/scalers/node_data/scaler_x_test.pkl')\n",
        "joblib.dump(scaler_y_test, '/content/drive/MyDrive/output_files/scalers/node_data/scaler_y_test.pkl')\n",
        "joblib.dump(scaler_z_test, '/content/drive/MyDrive/output_files/scalers/node_data/scaler_z_test.pkl')\n",
        "joblib.dump(scaler_Humidity_test, '/content/drive/MyDrive/output_files/scalers/node_data/scaler_Humidity_test.pkl')\n",
        "joblib.dump(scaler_Temperature_test, '/content/drive/MyDrive/output_files/scalers/node_data/scaler_Temperature_test.pkl')\n",
        "joblib.dump(scaler_Virus1_test, '/content/drive/MyDrive/output_files/scalers/node_data/scaler_Virus1_test.pkl')\n",
        "\n",
        "joblib.dump(scaler_CO2_all, '/content/drive/MyDrive/output_files/scalers/node_data/scaler_CO2_all.pkl')\n",
        "joblib.dump(scaler_x_all, '/content/drive/MyDrive/output_files/scalers/node_data/scaler_x_all.pkl')\n",
        "joblib.dump(scaler_y_all, '/content/drive/MyDrive/output_files/scalers/node_data/scaler_y_all.pkl')\n",
        "joblib.dump(scaler_z_all, '/content/drive/MyDrive/output_files/scalers/node_data/scaler_z_all.pkl')\n",
        "joblib.dump(scaler_Humidity_all, '/content/drive/MyDrive/output_files/scalers/node_data/scaler_Humidity_all.pkl')\n",
        "joblib.dump(scaler_Temperature_all, '/content/drive/MyDrive/output_files/scalers/node_data/scaler_Temperature_all.pkl')\n",
        "joblib.dump(scaler_Virus1_all, '/content/drive/MyDrive/output_files/scalers/node_data/scaler_Virus1_all.pkl')\n"
      ],
      "metadata": {
        "id": "xMzePteAXUBf",
        "colab": {
          "base_uri": "https://localhost:8080/"
        },
        "outputId": "d6ea2f66-63f3-412b-8e31-ebfc1bcf89c8"
      },
      "execution_count": null,
      "outputs": [
        {
          "output_type": "execute_result",
          "data": {
            "text/plain": [
              "['/content/drive/MyDrive/output_files/scalers/node_data/scaler_Virus1_all.pkl']"
            ]
          },
          "metadata": {},
          "execution_count": 14
        }
      ]
    },
    {
      "cell_type": "code",
      "source": [
        "import joblib\n",
        "\n",
        "joblib.dump(train_ob_all_values, '/content/drive/MyDrive/output_files/DATA/data_used_for_model/train_ob_all_values.pkl')\n",
        "joblib.dump(test_ob_all_values, '/content/drive/MyDrive/output_files/DATA/data_used_for_model/test_ob_all_values.pkl')\n",
        "joblib.dump(ob_all_values, '/content/drive/MyDrive/output_files/DATA/data_used_for_model/ob_all_values.pkl')\n",
        "\n",
        "joblib.dump(scaler_ob_CO2, '/content/drive/MyDrive/output_files/scalers/sensor_data/scaler_ob_CO2.pkl')\n",
        "joblib.dump(scaler_ob_xdata, '/content/drive/MyDrive/output_files/scalers/sensor_data/scaler_ob_xdata.pkl')\n",
        "joblib.dump(scaler_ob_ydata, '/content/drive/MyDrive/output_files/scalers/sensor_data/scaler_ob_ydata.pkl')\n",
        "joblib.dump(scaler_ob_zdata, '/content/drive/MyDrive/output_files/scalers/sensor_data/scaler_ob_zdata.pkl')\n",
        "joblib.dump(scaler_ob_Humidity, '/content/drive/MyDrive/output_files/scalers/sensor_data/scaler_ob_Humidity.pkl')\n",
        "joblib.dump(scaler_ob_Temperature, '/content/drive/MyDrive/output_files/scalers/sensor_data/scaler_ob_Temperature.pkl')\n",
        "joblib.dump(scaler_ob_Virus1, '/content/drive/MyDrive/output_files/scalers/sensor_data/scaler_ob_Virus1.pkl')\n",
        "\n",
        "joblib.dump(scaler_ob_CO2_test, '/content/drive/MyDrive/output_files/scalers/sensor_data/scaler_ob_CO2_test.pkl')\n",
        "joblib.dump(scaler_ob_xdata_test, '/content/drive/MyDrive/output_files/scalers/sensor_data/scaler_ob_xdata_test.pkl')\n",
        "joblib.dump(scaler_ob_ydata_test, '/content/drive/MyDrive/output_files/scalers/sensor_data/scaler_ob_ydata_test.pkl')\n",
        "joblib.dump(scaler_ob_zdata_test, '/content/drive/MyDrive/output_files/scalers/sensor_data/scaler_ob_zdata_test.pkl')\n",
        "joblib.dump(scaler_ob_Humidity_test, '/content/drive/MyDrive/output_files/scalers/sensor_data/scaler_ob_Humidity_test.pkl')\n",
        "joblib.dump(scaler_ob_Temperature_test, '/content/drive/MyDrive/output_files/scalers/sensor_data/scaler_ob_Temperature_test.pkl')\n",
        "joblib.dump(scaler_ob_Virus1_test, '/content/drive/MyDrive/output_files/scalers/sensor_data/scaler_ob_Virus1_test.pkl')\n",
        "\n",
        "joblib.dump(scaler_ob_CO2_all, '/content/drive/MyDrive/output_files/scalers/sensor_data/scaler_ob_CO2_all.pkl')\n",
        "joblib.dump(scaler_ob_xdata_all, '/content/drive/MyDrive/output_files/scalers/sensor_data/scaler_ob_xdata_all.pkl')\n",
        "joblib.dump(scaler_ob_ydata_all, '/content/drive/MyDrive/output_files/scalers/sensor_data/scaler_ob_ydata_all.pkl')\n",
        "joblib.dump(scaler_ob_zdata_all, '/content/drive/MyDrive/output_files/scalers/sensor_data/scaler_ob_zdata_all.pkl')\n",
        "joblib.dump(scaler_ob_Humidity_all, '/content/drive/MyDrive/output_files/scalers/sensor_data/scaler_ob_Humidity_all.pkl')\n",
        "joblib.dump(scaler_ob_Temperature_all, '/content/drive/MyDrive/output_files/scalers/sensor_data/scaler_ob_Temperature_all.pkl')\n",
        "joblib.dump(scaler_ob_Virus1_all, '/content/drive/MyDrive/output_files/scalers/sensor_data/scaler_ob_Virus1_all.pkl')\n"
      ],
      "metadata": {
        "colab": {
          "base_uri": "https://localhost:8080/"
        },
        "id": "h9PnX30ZMZeD",
        "outputId": "7659f757-3684-42c2-8643-dd3ad3ff8ae9"
      },
      "execution_count": null,
      "outputs": [
        {
          "output_type": "execute_result",
          "data": {
            "text/plain": [
              "['/content/drive/MyDrive/output_files/scalers/sensor_data/scaler_ob_Virus1_all.pkl']"
            ]
          },
          "metadata": {},
          "execution_count": 25
        }
      ]
    },
    {
      "cell_type": "code",
      "source": [
        "import joblib\n",
        "# Store the all data in the form of numpy.ndarray\n",
        "train_all_values = joblib.load('/content/drive/MyDrive/output_files/DATA/data_used_for_model/snapshot_matrix_train.pkl')\n",
        "test_all_values = joblib.load('/content/drive/MyDrive/output_files/DATA/data_used_for_model/snapshot_matrix_test.pkl')\n",
        "all_values = joblib.load('/content/drive/MyDrive/output_files/DATA/data_used_for_model/snapshot_matrix.pkl')\n",
        "# train_ob_all_values = joblib.load('/content/drive/MyDrive/output_files/DATA/data_used_for_model/train_ob_all_values.pkl')\n",
        "# test_ob_all_values = joblib.load('/content/drive/MyDrive/output_files/DATA/data_used_for_model/test_ob_all_values.pkl')\n",
        "# ob_all_values = joblib.load('/content/drive/MyDrive/output_files/DATA/data_used_for_model/ob_all_values.pkl')\n",
        "\n",
        "# # Store the scaler to standardise data\n",
        "# scaler_CO2 = joblib.load('/content/drive/MyDrive/output_files/scalers/node_data/scaler_CO2.pkl')\n",
        "# scaler_x = joblib.load('/content/drive/MyDrive/output_files/scalers/node_data/scaler_x.pkl')\n",
        "# scaler_y = joblib.load('/content/drive/MyDrive/output_files/scalers/node_data/scaler_y.pkl')\n",
        "# scaler_z = joblib.load('/content/drive/MyDrive/output_files/scalers/node_data/scaler_z.pkl')\n",
        "# scaler_Humidity = joblib.load('/content/drive/MyDrive/output_files/scalers/node_data/scaler_Humidity.pkl')\n",
        "# scaler_Temperature = joblib.load('/content/drive/MyDrive/output_files/scalers/node_data/scaler_Temperature.pkl')\n",
        "# scaler_Virus1 = joblib.load('/content/drive/MyDrive/output_files/scalers/node_data/scaler_Virus1.pkl')\n",
        "\n",
        "# scaler_CO2_test = joblib.load('/content/drive/MyDrive/output_files/scalers/node_data/scaler_CO2_test.pkl')\n",
        "# scaler_x_test = joblib.load('/content/drive/MyDrive/output_files/scalers/node_data/scaler_x_test.pkl')\n",
        "# scaler_y_test = joblib.load('/content/drive/MyDrive/output_files/scalers/node_data/scaler_y_test.pkl')\n",
        "# scaler_z_test = joblib.load('/content/drive/MyDrive/output_files/scalers/node_data/scaler_z_test.pkl')\n",
        "# scaler_Humidity_test = joblib.load('/content/drive/MyDrive/output_files/scalers/node_data/scaler_Humidity_test.pkl')\n",
        "# scaler_Temperature_test = joblib.load('/content/drive/MyDrive/output_files/scalers/node_data/scaler_Temperature_test.pkl')\n",
        "# scaler_Virus1_test = joblib.load('/content/drive/MyDrive/output_files/scalers/node_data/scaler_Virus1_test.pkl')\n",
        "\n",
        "# scaler_CO2_all = joblib.load('/content/drive/MyDrive/output_files/scalers/node_data/scaler_CO2_all.pkl')\n",
        "# scaler_x_all = joblib.load('/content/drive/MyDrive/output_files/scalers/node_data/scaler_x_all.pkl')\n",
        "# scaler_y_all = joblib.load('/content/drive/MyDrive/output_files/scalers/node_data/scaler_y_all.pkl')\n",
        "# scaler_z_all = joblib.load('/content/drive/MyDrive/output_files/scalers/node_data/scaler_z_all.pkl')\n",
        "# scaler_Humidity_all = joblib.load('/content/drive/MyDrive/output_files/scalers/node_data/scaler_Humidity_all.pkl')\n",
        "# scaler_Temperature_all = joblib.load('/content/drive/MyDrive/output_files/scalers/node_data/scaler_Temperature_all.pkl')\n",
        "# scaler_Virus1_all = joblib.load('/content/drive/MyDrive/output_files/scalers/node_data/scaler_Virus1_all.pkl')\n",
        "\n",
        "# scaler_ob_CO2 = joblib.load('/content/drive/MyDrive/output_files/scalers/sensor_data/scaler_ob_CO2.pkl')\n",
        "# scaler_ob_xdata = joblib.load('/content/drive/MyDrive/output_files/scalers/sensor_data/scaler_ob_xdata.pkl')\n",
        "# scaler_ob_ydata = joblib.load('/content/drive/MyDrive/output_files/scalers/sensor_data/scaler_ob_ydata.pkl')\n",
        "# scaler_ob_zdata = joblib.load('/content/drive/MyDrive/output_files/scalers/sensor_data/scaler_ob_zdata.pkl')\n",
        "# scaler_ob_Humidity = joblib.load('/content/drive/MyDrive/output_files/scalers/sensor_data/scaler_ob_Humidity.pkl')\n",
        "# scaler_ob_Temperature = joblib.load('/content/drive/MyDrive/output_files/scalers/sensor_data/scaler_ob_Temperature.pkl')\n",
        "# scaler_ob_Virus1 = joblib.load('/content/drive/MyDrive/output_files/scalers/sensor_data/scaler_ob_Virus1.pkl')\n",
        "\n",
        "# scaler_ob_CO2_test = joblib.load('/content/drive/MyDrive/output_files/scalers/sensor_data/scaler_ob_CO2_test.pkl')\n",
        "# scaler_ob_xdata_test = joblib.load('/content/drive/MyDrive/output_files/scalers/sensor_data/scaler_ob_xdata_test.pkl')\n",
        "# scaler_ob_ydata_test = joblib.load('/content/drive/MyDrive/output_files/scalers/sensor_data/scaler_ob_ydata_test.pkl')\n",
        "# scaler_ob_zdata_test = joblib.load('/content/drive/MyDrive/output_files/scalers/sensor_data/scaler_ob_zdata_test.pkl')\n",
        "# scaler_ob_Humidity_test = joblib.load('/content/drive/MyDrive/output_files/scalers/sensor_data/scaler_ob_Humidity_test.pkl')\n",
        "# scaler_ob_Temperature_test = joblib.load('/content/drive/MyDrive/output_files/scalers/sensor_data/scaler_ob_Temperature_test.pkl')\n",
        "# scaler_ob_Virus1_test = joblib.load('/content/drive/MyDrive/output_files/scalers/sensor_data/scaler_ob_Virus1_test.pkl')\n",
        "\n",
        "# scaler_ob_CO2_all = joblib.load('/content/drive/MyDrive/output_files/scalers/sensor_data/scaler_ob_CO2_all.pkl')\n",
        "# scaler_ob_xdata_all = joblib.load('/content/drive/MyDrive/output_files/scalers/sensor_data/scaler_ob_xdata_all.pkl')\n",
        "# scaler_ob_ydata_all = joblib.load('/content/drive/MyDrive/output_files/scalers/sensor_data/scaler_ob_ydata_all.pkl')\n",
        "# scaler_ob_zdata_all = joblib.load('/content/drive/MyDrive/output_files/scalers/sensor_data/scaler_ob_zdata_all.pkl')\n",
        "# scaler_ob_Humidity_all = joblib.load('/content/drive/MyDrive/output_files/scalers/sensor_data/scaler_ob_Humidity_all.pkl')\n",
        "# scaler_ob_Temperature_all = joblib.load('/content/drive/MyDrive/output_files/scalers/sensor_data/scaler_ob_Temperature_all.pkl')\n",
        "# scaler_ob_Virus1_all = joblib.load('/content/drive/MyDrive/output_files/scalers/sensor_data/scaler_ob_Virus1_all.pkl')"
      ],
      "metadata": {
        "id": "HglizKz3Xcvs"
      },
      "execution_count": null,
      "outputs": []
    },
    {
      "cell_type": "code",
      "source": [
        "train_all_values.shape"
      ],
      "metadata": {
        "colab": {
          "base_uri": "https://localhost:8080/"
        },
        "id": "ieAVziFHE1BT",
        "outputId": "7ef0a673-5e2c-4769-b758-2df93bfa8ce3"
      },
      "execution_count": null,
      "outputs": [
        {
          "output_type": "execute_result",
          "data": {
            "text/plain": [
              "(576, 1344420)"
            ]
          },
          "metadata": {},
          "execution_count": 6
        }
      ]
    },
    {
      "cell_type": "code",
      "source": [
        "from sklearn.decomposition import PCA"
      ],
      "metadata": {
        "id": "_WhOQv_6nMGt"
      },
      "execution_count": null,
      "outputs": []
    },
    {
      "cell_type": "code",
      "source": [
        "# p_tot -> proportion of the variance we want to keep\n",
        "# Can’t be set to 1, because 1 means that only 1 component will be left\n",
        "p_tot = 0.999999999999999\n",
        "# Create an instance of the PCA model\n",
        "pca = PCA(p_tot)\n",
        "train_pca = pca.fit_transform(train_all_values)\n",
        "# X_recovered = pca.inverse_transform(train_pca)\n",
        "# np.allclose(X_recovered, train_all_values)"
      ],
      "metadata": {
        "id": "2vNpvXzpE5ew"
      },
      "execution_count": null,
      "outputs": []
    },
    {
      "cell_type": "code",
      "source": [
        "# Find the cumulative sum of the explained variance ratio to plot\n",
        "p = 0.902\n",
        "cumsum_eig = np.cumsum(pca.explained_variance_ratio_)\n",
        "d_tot = pca.n_components_\n",
        "# Find the number of principle components \n",
        "d = np.argmax(cumsum_eig >= p) + 1\n",
        "print(\"number of components after PCA = \", d)"
      ],
      "metadata": {
        "id": "s4lUrArOHrEP",
        "colab": {
          "base_uri": "https://localhost:8080/"
        },
        "outputId": "ac263702-bf95-4668-93d9-2e118dd76dcc"
      },
      "execution_count": null,
      "outputs": [
        {
          "output_type": "stream",
          "name": "stdout",
          "text": [
            "number of components after PCA =  150\n"
          ]
        }
      ]
    },
    {
      "cell_type": "code",
      "source": [
        "import matplotlib.pyplot as plt\n",
        "plt.figure(figsize=(6,4))\n",
        "plt.plot(cumsum_eig, linewidth=3)\n",
        "plt.xlabel(\"Dimensions\")\n",
        "plt.ylabel(\"Explained Variance\")\n",
        "plt.ylim([cumsum_eig[0],1.1])\n",
        "plt.plot([d, d], [0, p], \"k:\")\n",
        "plt.plot([0, d], [p, p], \"k:\")\n",
        "plt.plot(d, p, \"ko\")\n",
        "plt.annotate(\"150 principal components\", xy=(d, p), xytext=(d, cumsum_eig[0]+0.05),\n",
        "             arrowprops=dict(arrowstyle=\"->\"), fontsize=16)\n",
        "plt.grid(True)\n",
        "# plt.savefig('pca_norm_Explained_Variance.png')\n",
        "plt.show()"
      ],
      "metadata": {
        "colab": {
          "base_uri": "https://localhost:8080/",
          "height": 291
        },
        "id": "Y59aRnxNHuf3",
        "outputId": "7f778e03-b6a3-4238-fd75-4ec79eda9792"
      },
      "execution_count": null,
      "outputs": [
        {
          "output_type": "display_data",
          "data": {
            "text/plain": [
              "<Figure size 432x288 with 1 Axes>"
            ],
            "image/png": "[encoded data removed]"
          },
          "metadata": {
            "needs_background": "light"
          }
        }
      ]
    },
    {
      "cell_type": "code",
      "source": [
        "pca_compress = PCA(n_components=d)\n",
        "pca_compress.fit(all_values)\n",
        "X_train_pca = pca_compress.transform(train_all_values)\n",
        "X_test_pca = pca_compress.transform(test_all_values)\n",
        "X_all_pca = pca_compress.transform(all_values)"
      ],
      "metadata": {
        "id": "fltzOWkBHuzw"
      },
      "execution_count": null,
      "outputs": []
    },
    {
      "cell_type": "code",
      "source": [
        "joblib.dump(X_train_pca, '/content/drive/MyDrive/output_files/DATA/PCA_data/X_train_pca1.pkl')\n",
        "joblib.dump(X_test_pca, '/content/drive/MyDrive/output_files/DATA/PCA_data/X_test_pca1.pkl')\n",
        "joblib.dump(X_all_pca, '/content/drive/MyDrive/output_files/DATA/PCA_data/X_all_pca1.pkl')\n",
        "joblib.dump(pca_compress, '/content/drive/MyDrive/output_files/DATA/PCA_data/pca_compress_to_921.pkl')"
      ],
      "metadata": {
        "colab": {
          "base_uri": "https://localhost:8080/"
        },
        "id": "mhxmXMFUJSjD",
        "outputId": "ddae15a1-01aa-4f58-c32a-e41bebf37e91"
      },
      "execution_count": null,
      "outputs": [
        {
          "output_type": "execute_result",
          "data": {
            "text/plain": [
              "['/content/drive/MyDrive/output_files/DATA/PCA_data/pca_compress_to_921.pkl']"
            ]
          },
          "metadata": {},
          "execution_count": 9
        }
      ]
    },
    {
      "cell_type": "code",
      "source": [],
      "metadata": {
        "id": "gB8sdxT058M5"
      },
      "execution_count": null,
      "outputs": []
    }
  ]
}