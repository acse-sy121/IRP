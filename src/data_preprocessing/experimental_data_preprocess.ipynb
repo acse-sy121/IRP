{
  "nbformat": 4,
  "nbformat_minor": 0,
  "metadata": {
    "colab": {
      "provenance": []
    },
    "kernelspec": {
      "name": "python3",
      "display_name": "Python 3"
    },
    "language_info": {
      "name": "python"
    }
  },
  "cells": [
    {
      "cell_type": "markdown",
      "source": [
        "==============================\\\n",
        "Student name: Shiqi Yin \\\n",
        "GitHub username: acse-sy121\\\n",
        "\\=============================="
      ],
      "metadata": {
        "id": "3qWeWcTWt_pT"
      }
    },
    {
      "cell_type": "code",
      "execution_count": null,
      "metadata": {
        "colab": {
          "base_uri": "https://localhost:8080/"
        },
        "id": "rXXmr0GOflHN",
        "outputId": "de232b9c-2f89-4f51-c619-0e9cb3d04c00"
      },
      "outputs": [
        {
          "output_type": "stream",
          "name": "stdout",
          "text": [
            "Drive already mounted at /content/drive; to attempt to forcibly remount, call drive.mount(\"/content/drive\", force_remount=True).\n"
          ]
        }
      ],
      "source": [
        "from google.colab import drive\n",
        "drive.mount('/content/drive')"
      ]
    },
    {
      "cell_type": "code",
      "source": [
        "import sys\n",
        "\n",
        "# Scikit-Learn ≥0.20 is required\n",
        "import sklearn\n",
        "import os\n",
        "os.chdir(\"/content/drive/MyDrive\")\n",
        "# Common imports\n",
        "import numpy as np"
      ],
      "metadata": {
        "id": "qQjeT470XqL2"
      },
      "execution_count": null,
      "outputs": []
    },
    {
      "cell_type": "code",
      "source": [
        "experimental = np.load('/content/drive/MyDrive/output_files/DATA/real_value.npy')"
      ],
      "metadata": {
        "id": "0jGGQIykkVcV"
      },
      "execution_count": null,
      "outputs": []
    },
    {
      "cell_type": "code",
      "source": [
        "print(experimental.shape)"
      ],
      "metadata": {
        "colab": {
          "base_uri": "https://localhost:8080/"
        },
        "id": "DHTa3Ty6X0l4",
        "outputId": "231a5682-bb6d-4aac-d8b7-7136ff168745"
      },
      "execution_count": null,
      "outputs": [
        {
          "output_type": "stream",
          "name": "stdout",
          "text": [
            "(3, 120, 18)\n"
          ]
        }
      ]
    },
    {
      "cell_type": "code",
      "source": [
        "exp_CO2 = np.array(experimental[0])\n",
        "exp_Humidity = np.array(experimental[1]*1e-2)\n",
        "exp_Temperature = np.array(experimental[2]+273.15)"
      ],
      "metadata": {
        "id": "LpEy_uqgX4rC"
      },
      "execution_count": null,
      "outputs": []
    },
    {
      "cell_type": "code",
      "source": [
        "exp_CO2[0]"
      ],
      "metadata": {
        "colab": {
          "base_uri": "https://localhost:8080/"
        },
        "id": "IyaIDR_M-wU1",
        "outputId": "5448b0e5-d227-4c4e-9059-1044e35efbd5"
      },
      "execution_count": null,
      "outputs": [
        {
          "output_type": "execute_result",
          "data": {
            "text/plain": [
              "array([794.43070175, 589.43070175, 683.43070175, 495.43070175,\n",
              "       822.43070175, 702.43070175, 518.43070175, 712.43070175,\n",
              "       878.43070175, 492.11403509, 521.43070175, 544.76403509,\n",
              "       531.43070175, 522.43070175, 520.43070175, 505.43070175,\n",
              "       512.43070175, 500.43070175])"
            ]
          },
          "metadata": {},
          "execution_count": 41
        }
      ]
    },
    {
      "cell_type": "code",
      "source": [
        "exp_Humidity[0]"
      ],
      "metadata": {
        "colab": {
          "base_uri": "https://localhost:8080/"
        },
        "id": "voMZFwq0-wh5",
        "outputId": "e2eef45d-3ee8-4410-80d9-09d26f463d6c"
      },
      "execution_count": null,
      "outputs": [
        {
          "output_type": "execute_result",
          "data": {
            "text/plain": [
              "array([0.43194355, 0.41094355, 0.39694355, 0.40194355, 0.42594355,\n",
              "       0.41994355, 0.38524355, 0.39194355, 0.42494355, 0.39855855,\n",
              "       0.39164355, 0.39236022, 0.40094355, 0.39334355, 0.39914355,\n",
              "       0.40894355, 0.39094355, 0.39154355])"
            ]
          },
          "metadata": {},
          "execution_count": 42
        }
      ]
    },
    {
      "cell_type": "code",
      "source": [
        "exp_Temperature[0]"
      ],
      "metadata": {
        "colab": {
          "base_uri": "https://localhost:8080/"
        },
        "id": "XnRAuAl7YUQa",
        "outputId": "abd2233b-52f4-4c6a-ef8f-bd082ba93c90"
      },
      "execution_count": null,
      "outputs": [
        {
          "output_type": "execute_result",
          "data": {
            "text/plain": [
              "array([303.73390243, 304.93390243, 303.43390243, 302.33390243,\n",
              "       303.13390243, 302.63390243, 303.42279132, 303.23390243,\n",
              "       303.03390243, 305.06816169, 302.12834688, 302.72723577,\n",
              "       303.74501354, 302.44501354, 302.77834688, 303.31723577,\n",
              "       302.58945799, 303.23945799])"
            ]
          },
          "metadata": {},
          "execution_count": 43
        }
      ]
    },
    {
      "cell_type": "code",
      "source": [
        "def train_test_split(field_data):\n",
        "  X_train_array = []\n",
        "  X_test_array = []\n",
        "\n",
        "  for i in range(int(len(field_data)*0.8)):\n",
        "    X_train_array.append(field_data[i])\n",
        "  X_train_array = np.array(X_train_array)\n",
        "\n",
        "  for i in range(int(len(field_data)*0.8),len(field_data)):\n",
        "    X_test_array.append(field_data[i])\n",
        "  X_test_array = np.array(X_test_array)\n",
        "\n",
        "  print(\"Train dataset shape: \", X_train_array.shape)\n",
        "  print(\"Test dataset shape: \", X_test_array.shape)\n",
        "\n",
        "  return X_train_array, X_test_array"
      ],
      "metadata": {
        "id": "RBWe9LWbX5Ly"
      },
      "execution_count": null,
      "outputs": []
    },
    {
      "cell_type": "code",
      "source": [
        "exp_CO2_train, exp_CO2_test = train_test_split(exp_CO2)\n",
        "exp_Humidity_train, exp_Humidity_test = train_test_split(exp_Humidity)\n",
        "exp_Temperature_train, exp_Temperature_test = train_test_split(exp_Temperature)"
      ],
      "metadata": {
        "colab": {
          "base_uri": "https://localhost:8080/"
        },
        "id": "AIMe1YY3X5N8",
        "outputId": "3c97af6e-5abb-4cce-c4d3-86ee3fce835d"
      },
      "execution_count": null,
      "outputs": [
        {
          "output_type": "stream",
          "name": "stdout",
          "text": [
            "Train dataset shape:  (96, 18)\n",
            "Test dataset shape:  (24, 18)\n",
            "Train dataset shape:  (96, 18)\n",
            "Test dataset shape:  (24, 18)\n",
            "Train dataset shape:  (96, 18)\n",
            "Test dataset shape:  (24, 18)\n"
          ]
        }
      ]
    },
    {
      "cell_type": "code",
      "source": [
        "from sklearn.preprocessing import MinMaxScaler\n",
        "import joblib"
      ],
      "metadata": {
        "id": "hu4_5ZG6r_3D"
      },
      "execution_count": null,
      "outputs": []
    },
    {
      "cell_type": "code",
      "source": [
        "scaler_exp_CO2_all = joblib.load('/content/drive/MyDrive/output_files/scalers/sensor_data/scaler_ob_CO2_all.pkl')\n",
        "scaler_exp_Humidity_all = joblib.load('/content/drive/MyDrive/output_files/scalers/sensor_data/scaler_ob_Humidity_all.pkl')\n",
        "scaler_exp_Temperature_all = joblib.load('/content/drive/MyDrive/output_files/scalers/sensor_data/scaler_ob_Temperature_all.pkl')"
      ],
      "metadata": {
        "id": "_uU3hbr3Oy83"
      },
      "execution_count": null,
      "outputs": []
    },
    {
      "cell_type": "code",
      "source": [
        "# scaler_exp_CO2 = MinMaxScaler((0, 1))\n",
        "# scaler_exp_Humidity = MinMaxScaler((0, 1))\n",
        "# scaler_exp_Temperature = MinMaxScaler((0, 1))\n",
        "\n",
        "# scaler_exp_CO2_test = MinMaxScaler((0, 1))\n",
        "# scaler_exp_Humidity_test = MinMaxScaler((0, 1))\n",
        "# scaler_exp_Temperature_test = MinMaxScaler((0, 1))\n",
        "\n",
        "# scaler_exp_CO2_all = MinMaxScaler((0, 1))\n",
        "# scaler_exp_Humidity_all = MinMaxScaler((0, 1))\n",
        "# scaler_exp_Temperature_all = MinMaxScaler((0, 1))"
      ],
      "metadata": {
        "id": "ROZdxhedX5QL"
      },
      "execution_count": null,
      "outputs": []
    },
    {
      "cell_type": "code",
      "source": [
        "# norm_exp_CO2_train = scaler_exp_CO2.fit_transform(exp_CO2_train)\n",
        "# norm_exp_Humidity_train = scaler_exp_Humidity.fit_transform(exp_Humidity_train)\n",
        "# norm_exp_Temperature_train = scaler_exp_Temperature.fit_transform(exp_Temperature_train)\n",
        "\n",
        "# norm_exp_CO2_test = scaler_exp_CO2_test.fit_transform(exp_CO2_test)\n",
        "# norm_exp_Humidity_test = scaler_exp_Humidity_test.fit_transform(exp_Humidity_test)\n",
        "# norm_exp_Temperature_test = scaler_exp_Temperature_test.fit_transform(exp_Temperature_test)\n",
        "\n",
        "norm_exp_CO2_all = scaler_exp_CO2_all.transform(exp_CO2)\n",
        "norm_exp_Humidity_all = scaler_exp_Humidity_all.transform(exp_Humidity)\n",
        "norm_exp_Temperature_all = scaler_exp_Temperature_all.transform(exp_Temperature)"
      ],
      "metadata": {
        "id": "K4JPJmwqX5SQ"
      },
      "execution_count": null,
      "outputs": []
    },
    {
      "cell_type": "code",
      "source": [
        "# train_exp_all_values = np.hstack((norm_exp_CO2_train, norm_exp_Humidity_train, norm_exp_Temperature_train))\n",
        "# test_exp_all_values = np.hstack((norm_exp_CO2_test, norm_exp_Humidity_test, norm_exp_Temperature_test))\n",
        "exp_all_values = np.hstack((norm_exp_CO2_all, norm_exp_Humidity_all, norm_exp_Temperature_all))"
      ],
      "metadata": {
        "id": "w5InGQ7mX5UN"
      },
      "execution_count": null,
      "outputs": []
    },
    {
      "cell_type": "code",
      "source": [
        "exp_all_values.shape"
      ],
      "metadata": {
        "colab": {
          "base_uri": "https://localhost:8080/"
        },
        "id": "WqYqeW9iX5WX",
        "outputId": "905ee447-bf68-429b-8181-03ca98f84b02"
      },
      "execution_count": null,
      "outputs": [
        {
          "output_type": "execute_result",
          "data": {
            "text/plain": [
              "(120, 54)"
            ]
          },
          "metadata": {},
          "execution_count": 51
        }
      ]
    },
    {
      "cell_type": "code",
      "source": [
        "import joblib\n",
        "# Store the all data in the form of numpy.ndarray\n",
        "# joblib.dump(train_exp_all_values, '/content/drive/MyDrive/output_files/DATA/data_used_for_model/experimental_train.pkl')\n",
        "# joblib.dump(test_exp_all_values, '/content/drive/MyDrive/output_files/DATA/data_used_for_model/experimental_test.pkl')\n",
        "joblib.dump(exp_all_values, '/content/drive/MyDrive/output_files/DATA/data_used_for_model/experimental.pkl')\n",
        "\n",
        "# joblib.dump(scaler_exp_CO2, '/content/drive/MyDrive/output_files/scalers/experimental_data/scaler_exp_CO2.pkl')\n",
        "# joblib.dump(scaler_exp_Humidity, '/content/drive/MyDrive/output_files/scalers/experimental_data/scaler_exp_Humidity.pkl')\n",
        "# joblib.dump(scaler_exp_Temperature, '/content/drive/MyDrive/output_files/scalers/experimental_data/scaler_exp_Temperature.pkl')\n",
        "\n",
        "# joblib.dump(scaler_exp_CO2_test, '/content/drive/MyDrive/output_files/scalers/experimental_data/scaler_exp_CO2_test.pkl')\n",
        "# joblib.dump(scaler_exp_Humidity_test, '/content/drive/MyDrive/output_files/scalers/experimental_data/scaler_exp_Humidity_test.pkl')\n",
        "# joblib.dump(scaler_exp_Temperature_test, '/content/drive/MyDrive/output_files/scalers/experimental_data/scaler_exp_Temperature_test.pkl')\n",
        "\n",
        "# joblib.dump(scaler_exp_CO2_all, '/content/drive/MyDrive/output_files/scalers/experimental_data/scaler_exp_CO2_all.pkl')\n",
        "# joblib.dump(scaler_exp_Humidity_all, '/content/drive/MyDrive/output_files/scalers/experimental_data/scaler_exp_Humidity_all.pkl')\n",
        "# joblib.dump(scaler_exp_Temperature_all, '/content/drive/MyDrive/output_files/scalers/experimental_data/scaler_exp_Temperature_all.pkl')"
      ],
      "metadata": {
        "colab": {
          "base_uri": "https://localhost:8080/"
        },
        "id": "1bHz3nhPX5Yl",
        "outputId": "cee487b4-a788-43a3-ac43-79d7afb7f98b"
      },
      "execution_count": null,
      "outputs": [
        {
          "output_type": "execute_result",
          "data": {
            "text/plain": [
              "['/content/drive/MyDrive/output_files/DATA/data_used_for_model/experimental.pkl']"
            ]
          },
          "metadata": {},
          "execution_count": 52
        }
      ]
    },
    {
      "cell_type": "code",
      "source": [],
      "metadata": {
        "id": "OSsxiTntX5c0"
      },
      "execution_count": null,
      "outputs": []
    }
  ]
}