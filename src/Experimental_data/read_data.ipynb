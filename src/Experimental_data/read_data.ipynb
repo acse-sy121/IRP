{
 "cells": [
  {
   "cell_type": "code",
   "execution_count": 1,
   "id": "820f8bf9",
   "metadata": {},
   "outputs": [],
   "source": [
    "import xlrd\n",
    "\n",
    "from xlrd import xldate_as_tuple\n",
    "\n",
    "import datetime\n",
    "import numpy as np"
   ]
  },
  {
   "cell_type": "code",
   "execution_count": 69,
   "id": "4f120421",
   "metadata": {},
   "outputs": [],
   "source": [
    "data_CO2 = xlrd.open_workbook(r'G:\\Imperial\\ACSE-9\\data\\real_data\\real_data_CO2.xlsx')\n",
    "data_Humidity = xlrd.open_workbook(r'G:\\Imperial\\ACSE-9\\data\\real_data\\real_data_Humidity.xlsx')\n",
    "data_Temperature = xlrd.open_workbook(r'G:\\Imperial\\ACSE-9\\data\\real_data\\real_data_Temp.xlsx')"
   ]
  },
  {
   "cell_type": "code",
   "execution_count": 70,
   "id": "90c2f426",
   "metadata": {},
   "outputs": [],
   "source": [
    "def read_real_data(excel_data):\n",
    "    sheet1 = excel_data.sheets()[0]\n",
    "    ncols = sheet1.ncols\n",
    "    real_data = []\n",
    "    for i in range(1, ncols):\n",
    "        sensor_data = sheet1.col_values(i)[1:]\n",
    "        count = 0\n",
    "        for j in range(len(sensor_data)-1):\n",
    "            avg = (sensor_data[j+count]+sensor_data[j+1+count])/2\n",
    "            count += 1\n",
    "            sensor_data.insert(j+count, avg)\n",
    "        real_data.append(sensor_data)\n",
    "    real_data = np.array(real_data)[:,:]\n",
    "    return real_data"
   ]
  },
  {
   "cell_type": "code",
   "execution_count": 71,
   "id": "551caf12",
   "metadata": {
    "scrolled": false
   },
   "outputs": [],
   "source": [
    "real_data_CO2 = read_real_data(data_CO2)\n",
    "real_data_Humidity = read_real_data(data_Humidity)\n",
    "real_data_Temperature = read_real_data(data_Temperature)"
   ]
  },
  {
   "cell_type": "code",
   "execution_count": 72,
   "id": "ceced8d5",
   "metadata": {},
   "outputs": [
    {
     "data": {
      "text/plain": [
       "(18, 121)"
      ]
     },
     "execution_count": 72,
     "metadata": {},
     "output_type": "execute_result"
    }
   ],
   "source": [
    "real_data_CO2.shape"
   ]
  },
  {
   "cell_type": "code",
   "execution_count": 73,
   "id": "c3eabd2b",
   "metadata": {
    "scrolled": true
   },
   "outputs": [],
   "source": [
    "real_data_CO2 = real_data_CO2.tolist()\n",
    "real_data_Humidity = real_data_Humidity.tolist()\n",
    "real_data_Temperature = real_data_Temperature.tolist()"
   ]
  },
  {
   "cell_type": "code",
   "execution_count": 74,
   "id": "75a98f80",
   "metadata": {},
   "outputs": [
    {
     "data": {
      "text/plain": [
       "18"
      ]
     },
     "execution_count": 74,
     "metadata": {},
     "output_type": "execute_result"
    }
   ],
   "source": [
    "len(real_data_CO2)"
   ]
  },
  {
   "cell_type": "code",
   "execution_count": 75,
   "id": "b22e9e1f",
   "metadata": {},
   "outputs": [],
   "source": [
    "def interpolation_2(field_data):\n",
    "    list_result = []\n",
    "    interpolation_num = 5\n",
    "    for k in range(len(field_data)):\n",
    "        field_result = []\n",
    "        for i in range(len(field_data[k])-1):\n",
    "            field_result.append(field_data[k][i])\n",
    "            interval = (field_data[k][i+1] - field_data[k][i])/(interpolation_num + 1)\n",
    "            for j in range(1,interpolation_num + 1):\n",
    "                field_result.append(field_data[k][i] + j * interval)\n",
    "        list_result.append(field_result)\n",
    "    return list_result\n",
    "    print(list_result)"
   ]
  },
  {
   "cell_type": "code",
   "execution_count": 109,
   "id": "c7d08602",
   "metadata": {},
   "outputs": [],
   "source": [
    "real_data_CO2_2 = interpolation_2(real_data_CO2)\n",
    "real_data_CO2_final = np.array(real_data_CO2_2).T\n",
    "real_data_Humidity_2 = interpolation_2(real_data_Humidity)\n",
    "real_data_Humidity_final = np.array(real_data_Humidity_2).T\n",
    "real_data_Temperature_2 = interpolation_2(real_data_Temperature)\n",
    "real_data_Temperature_final = np.array(real_data_Temperature_2).T"
   ]
  },
  {
   "cell_type": "code",
   "execution_count": 110,
   "id": "26d1a23c",
   "metadata": {
    "scrolled": true
   },
   "outputs": [
    {
     "data": {
      "text/plain": [
       "array([[794.43070175, 589.43070175, 683.43070175, ..., 505.43070175,\n",
       "        512.43070175, 500.43070175],\n",
       "       [794.93070175, 587.59736842, 683.68070175, ..., 506.01403509,\n",
       "        511.84736842, 501.59736842],\n",
       "       [795.43070175, 585.76403509, 683.93070175, ..., 506.59736842,\n",
       "        511.26403509, 502.76403509],\n",
       "       ...,\n",
       "       [500.93070175, 490.93070175, 491.68070175, ..., 862.68070175,\n",
       "        856.43070175, 847.43070175],\n",
       "       [502.09736842, 491.09736842, 489.93070175, ..., 862.59736842,\n",
       "        855.09736842, 847.76403509],\n",
       "       [503.26403509, 491.26403509, 488.18070175, ..., 862.51403509,\n",
       "        853.76403509, 848.09736842]])"
      ]
     },
     "execution_count": 110,
     "metadata": {},
     "output_type": "execute_result"
    }
   ],
   "source": [
    "real_data_CO2_final"
   ]
  },
  {
   "cell_type": "code",
   "execution_count": 111,
   "id": "95611100",
   "metadata": {},
   "outputs": [],
   "source": [
    "total_data = [real_data_CO2_final, real_data_Humidity_final, real_data_Temperature_final]"
   ]
  },
  {
   "cell_type": "code",
   "execution_count": 112,
   "id": "e87012a5",
   "metadata": {},
   "outputs": [],
   "source": [
    "total_array = np.array(total_data)"
   ]
  },
  {
   "cell_type": "code",
   "execution_count": 113,
   "id": "40ea0402",
   "metadata": {},
   "outputs": [],
   "source": [
    "np.save('real_value.npy', total_array)"
   ]
  },
  {
   "cell_type": "code",
   "execution_count": 114,
   "id": "3046aca7",
   "metadata": {},
   "outputs": [
    {
     "data": {
      "text/plain": [
       "(3, 720, 18)"
      ]
     },
     "execution_count": 114,
     "metadata": {},
     "output_type": "execute_result"
    }
   ],
   "source": [
    "total_array.shape"
   ]
  },
  {
   "cell_type": "code",
   "execution_count": 115,
   "id": "72b597cf",
   "metadata": {
    "scrolled": false
   },
   "outputs": [
    {
     "data": {
      "text/plain": [
       "array([[[794.43070175, 589.43070175, 683.43070175, ..., 505.43070175,\n",
       "         512.43070175, 500.43070175],\n",
       "        [794.93070175, 587.59736842, 683.68070175, ..., 506.01403509,\n",
       "         511.84736842, 501.59736842],\n",
       "        [795.43070175, 585.76403509, 683.93070175, ..., 506.59736842,\n",
       "         511.26403509, 502.76403509],\n",
       "        ...,\n",
       "        [500.93070175, 490.93070175, 491.68070175, ..., 862.68070175,\n",
       "         856.43070175, 847.43070175],\n",
       "        [502.09736842, 491.09736842, 489.93070175, ..., 862.59736842,\n",
       "         855.09736842, 847.76403509],\n",
       "        [503.26403509, 491.26403509, 488.18070175, ..., 862.51403509,\n",
       "         853.76403509, 848.09736842]],\n",
       "\n",
       "       [[ 43.19435541,  41.09435541,  39.69435541, ...,  40.89435541,\n",
       "          39.09435541,  39.15435541],\n",
       "        [ 43.21935541,  41.07768874,  39.71935541, ...,  40.89435541,\n",
       "          39.09018874,  39.15852207],\n",
       "        [ 43.24435541,  41.06102207,  39.74435541, ...,  40.89435541,\n",
       "          39.08602207,  39.16268874],\n",
       "        ...,\n",
       "        [ 41.91935541,  40.14435541,  37.29435541, ...,  43.58935541,\n",
       "          41.69435541,  41.66435541],\n",
       "        [ 41.97768874,  40.16102207,  37.26102207, ...,  43.58768874,\n",
       "          41.69102207,  41.66102207],\n",
       "        [ 42.03602207,  40.17768874,  37.22768874, ...,  43.58602207,\n",
       "          41.68768874,  41.65768874]],\n",
       "\n",
       "       [[ 30.58390243,  31.78390243,  30.28390243, ...,  30.16723577,\n",
       "          29.43945799,  30.08945799],\n",
       "        [ 30.58390243,  31.78390243,  30.28390243, ...,  30.16908762,\n",
       "          29.43760614,  30.09362465],\n",
       "        [ 30.58390243,  31.78390243,  30.28390243, ...,  30.17093947,\n",
       "          29.43575428,  30.09779132],\n",
       "        ...,\n",
       "        [ 29.05890243,  30.75890243,  29.38390243, ...,  30.40334688,\n",
       "          29.67834688,  30.5505691 ],\n",
       "        [ 29.06723577,  30.76723577,  29.38390243, ...,  30.41353206,\n",
       "          29.68019873,  30.5505691 ],\n",
       "        [ 29.0755691 ,  30.7755691 ,  29.38390243, ...,  30.42371725,\n",
       "          29.68205058,  30.5505691 ]]])"
      ]
     },
     "execution_count": 115,
     "metadata": {},
     "output_type": "execute_result"
    }
   ],
   "source": [
    "total_array"
   ]
  },
  {
   "cell_type": "code",
   "execution_count": null,
   "id": "aa295e77",
   "metadata": {},
   "outputs": [],
   "source": []
  },
  {
   "cell_type": "code",
   "execution_count": null,
   "id": "af26b458",
   "metadata": {},
   "outputs": [],
   "source": []
  }
 ],
 "metadata": {
  "kernelspec": {
   "display_name": "Python 3",
   "language": "python",
   "name": "python3"
  },
  "language_info": {
   "codemirror_mode": {
    "name": "ipython",
    "version": 3
   },
   "file_extension": ".py",
   "mimetype": "text/x-python",
   "name": "python",
   "nbconvert_exporter": "python",
   "pygments_lexer": "ipython3",
   "version": "3.8.8"
  },
  "vscode": {
   "interpreter": {
    "hash": "91bb753b057673435fb8d6f6a083e6c818364728098c7ae050ca3a25357dd754"
   }
  }
 },
 "nbformat": 4,
 "nbformat_minor": 5
}
