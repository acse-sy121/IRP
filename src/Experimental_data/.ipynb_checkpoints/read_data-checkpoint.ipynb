{
 "cells": [
  {
   "cell_type": "code",
   "execution_count": 1,
   "id": "820f8bf9",
   "metadata": {},
   "outputs": [],
   "source": [
    "import xlrd\n",
    "\n",
    "from xlrd import xldate_as_tuple\n",
    "\n",
    "import datetime\n",
    "import numpy as np"
   ]
  },
  {
   "cell_type": "code",
   "execution_count": 2,
   "id": "4f120421",
   "metadata": {},
   "outputs": [],
   "source": [
    "data_CO2 = xlrd.open_workbook(r'G:\\Imperial\\ACSE-9\\data\\real_data\\real_data_CO2.xlsx')\n",
    "data_Humidity = xlrd.open_workbook(r'G:\\Imperial\\ACSE-9\\data\\real_data\\real_data_Humidity.xlsx')\n",
    "data_Temperature = xlrd.open_workbook(r'G:\\Imperial\\ACSE-9\\data\\real_data\\real_data_Temp.xlsx')"
   ]
  },
  {
   "cell_type": "code",
   "execution_count": 3,
   "id": "90c2f426",
   "metadata": {},
   "outputs": [],
   "source": [
    "def read_real_data(excel_data):\n",
    "    sheet1 = excel_data.sheets()[0]\n",
    "    ncols = sheet1.ncols\n",
    "    real_data = []\n",
    "    for i in range(1, ncols):\n",
    "        sensor_data = sheet1.col_values(i)[1:]\n",
    "        count = 0\n",
    "        for j in range(len(sensor_data)-1):\n",
    "            avg = (sensor_data[j+count]+sensor_data[j+1+count])/2\n",
    "            count += 1\n",
    "            sensor_data.insert(j+count, avg)\n",
    "        real_data.append(sensor_data)\n",
    "    real_data = np.array(real_data)[:,:-1]\n",
    "    return real_data"
   ]
  },
  {
   "cell_type": "code",
   "execution_count": 4,
   "id": "551caf12",
   "metadata": {
    "scrolled": false
   },
   "outputs": [],
   "source": [
    "real_data_CO2 = read_real_data(data_CO2)\n",
    "real_data_Humidity = read_real_data(data_Humidity)\n",
    "real_data_Temperature = read_real_data(data_Temperature)"
   ]
  },
  {
   "cell_type": "code",
   "execution_count": 2,
   "id": "54a1d914",
   "metadata": {
    "collapsed": true
   },
   "outputs": [
    {
     "data": {
      "text/plain": [
       "array([  1.,   2.,   3.,   4.,   5.,   6.,   7.,   8.,   9.,  10.,  11.,\n",
       "        12.,  13.,  14.,  15.,  16.,  17.,  18.,  19.,  20.,  21.,  22.,\n",
       "        23.,  24.,  25.,  26.,  27.,  28.,  29.,  30.,  31.,  32.,  33.,\n",
       "        34.,  35.,  36.,  37.,  38.,  39.,  40.,  41.,  42.,  43.,  44.,\n",
       "        45.,  46.,  47.,  48.,  49.,  50.,  51.,  52.,  53.,  54.,  55.,\n",
       "        56.,  57.,  58.,  59.,  60.,  61.,  62.,  63.,  64.,  65.,  66.,\n",
       "        67.,  68.,  69.,  70.,  71.,  72.,  73.,  74.,  75.,  76.,  77.,\n",
       "        78.,  79.,  80.,  81.,  82.,  83.,  84.,  85.,  86.,  87.,  88.,\n",
       "        89.,  90.,  91.,  92.,  93.,  94.,  95.,  96.,  97.,  98.,  99.,\n",
       "       100., 101., 102., 103., 104., 105., 106., 107., 108., 109., 110.,\n",
       "       111., 112., 113., 114., 115., 116., 117., 118., 119., 120., 121.,\n",
       "       122., 123., 124., 125., 126., 127., 128., 129., 130., 131., 132.,\n",
       "       133., 134., 135., 136., 137., 138., 139., 140., 141., 142., 143.,\n",
       "       144., 145., 146., 147., 148., 149., 150., 151., 152., 153., 154.,\n",
       "       155., 156., 157., 158., 159., 160., 161., 162., 163., 164., 165.,\n",
       "       166., 167., 168., 169., 170., 171., 172., 173., 174., 175., 176.,\n",
       "       177., 178., 179., 180., 181., 182., 183., 184., 185., 186., 187.,\n",
       "       188., 189., 190., 191., 192., 193., 194., 195., 196., 197., 198.,\n",
       "       199., 200., 201., 202., 203., 204., 205., 206., 207., 208., 209.,\n",
       "       210., 211., 212., 213., 214., 215., 216., 217., 218., 219., 220.,\n",
       "       221., 222., 223., 224., 225., 226., 227., 228., 229., 230., 231.,\n",
       "       232., 233., 234., 235., 236., 237., 238., 239., 240., 241., 242.,\n",
       "       243., 244., 245., 246., 247., 248., 249., 250., 251., 252., 253.,\n",
       "       254., 255., 256., 257., 258., 259., 260., 261., 262., 263., 264.,\n",
       "       265., 266., 267., 268., 269., 270., 271., 272., 273., 274., 275.,\n",
       "       276., 277., 278., 279., 280., 281., 282., 283., 284., 285., 286.,\n",
       "       287., 288., 289., 290., 291., 292., 293., 294., 295., 296., 297.,\n",
       "       298., 299., 300., 301., 302., 303., 304., 305., 306., 307., 308.,\n",
       "       309., 310., 311., 312., 313., 314., 315., 316., 317., 318., 319.,\n",
       "       320., 321., 322., 323., 324., 325., 326., 327., 328., 329., 330.,\n",
       "       331., 332., 333., 334., 335., 336., 337., 338., 339., 340., 341.,\n",
       "       342., 343., 344., 345., 346., 347., 348., 349., 350., 351., 352.,\n",
       "       353., 354., 355., 356., 357., 358., 359., 360., 361., 362., 363.,\n",
       "       364., 365., 366., 367., 368., 369., 370., 371., 372., 373., 374.,\n",
       "       375., 376., 377., 378., 379., 380., 381., 382., 383., 384., 385.,\n",
       "       386., 387., 388., 389., 390., 391., 392., 393., 394., 395., 396.,\n",
       "       397., 398., 399., 400., 401., 402., 403., 404., 405., 406., 407.,\n",
       "       408., 409., 410., 411., 412., 413., 414., 415., 416., 417., 418.,\n",
       "       419., 420., 421., 422., 423., 424., 425., 426., 427., 428., 429.,\n",
       "       430., 431., 432., 433., 434., 435., 436., 437., 438., 439., 440.,\n",
       "       441., 442., 443., 444., 445., 446., 447., 448., 449., 450., 451.,\n",
       "       452., 453., 454., 455., 456., 457., 458., 459., 460., 461., 462.,\n",
       "       463., 464., 465., 466., 467., 468., 469., 470., 471., 472., 473.,\n",
       "       474., 475., 476., 477., 478., 479., 480., 481., 482., 483., 484.,\n",
       "       485., 486., 487., 488., 489., 490., 491., 492., 493., 494., 495.,\n",
       "       496., 497., 498., 499., 500., 501., 502., 503., 504., 505., 506.,\n",
       "       507., 508., 509., 510., 511., 512., 513., 514., 515., 516., 517.,\n",
       "       518., 519., 520., 521., 522., 523., 524., 525., 526., 527., 528.,\n",
       "       529., 530., 531., 532., 533., 534., 535., 536., 537., 538., 539.,\n",
       "       540., 541., 542., 543., 544., 545., 546., 547., 548., 549., 550.,\n",
       "       551., 552., 553., 554., 555., 556., 557., 558., 559., 560., 561.,\n",
       "       562., 563., 564., 565., 566., 567., 568., 569., 570., 571., 572.,\n",
       "       573., 574., 575., 576., 577., 578., 579., 580., 581., 582., 583.,\n",
       "       584., 585., 586., 587., 588., 589., 590., 591., 592., 593., 594.,\n",
       "       595., 596., 597., 598., 599., 600., 601., 602., 603., 604., 605.,\n",
       "       606., 607., 608., 609., 610., 611., 612., 613., 614., 615., 616.,\n",
       "       617., 618., 619., 620., 621., 622., 623., 624., 625., 626., 627.,\n",
       "       628., 629., 630., 631., 632., 633., 634., 635., 636., 637., 638.,\n",
       "       639., 640., 641., 642., 643., 644., 645., 646., 647., 648., 649.,\n",
       "       650., 651., 652., 653., 654., 655., 656., 657., 658., 659., 660.,\n",
       "       661., 662., 663., 664., 665., 666., 667., 668., 669., 670., 671.,\n",
       "       672., 673., 674., 675., 676., 677., 678., 679., 680., 681., 682.,\n",
       "       683., 684., 685., 686., 687., 688., 689., 690., 691., 692., 693.,\n",
       "       694., 695., 696., 697., 698., 699., 700., 701., 702., 703., 704.,\n",
       "       705., 706., 707., 708., 709., 710., 711., 712., 713., 714., 715.,\n",
       "       716., 717., 718., 719., 720.])"
      ]
     },
     "execution_count": 2,
     "metadata": {},
     "output_type": "execute_result"
    }
   ],
   "source": [
    "x_axis = np.linspace(1, 720, 720)\n",
    "x_axis"
   ]
  },
  {
   "cell_type": "code",
   "execution_count": null,
   "id": "6b6fd8e8",
   "metadata": {},
   "outputs": [],
   "source": []
  },
  {
   "cell_type": "code",
   "execution_count": null,
   "id": "9ee7f580",
   "metadata": {},
   "outputs": [],
   "source": []
  },
  {
   "cell_type": "code",
   "execution_count": null,
   "id": "829a3391",
   "metadata": {},
   "outputs": [],
   "source": []
  },
  {
   "cell_type": "code",
   "execution_count": 5,
   "id": "c3eabd2b",
   "metadata": {
    "scrolled": true
   },
   "outputs": [],
   "source": [
    "real_data_CO2 = real_data_CO2.transpose().tolist()\n",
    "real_data_Humidity = real_data_Humidity.transpose().tolist()\n",
    "real_data_Temperature = real_data_Temperature.transpose().tolist()"
   ]
  },
  {
   "cell_type": "code",
   "execution_count": 6,
   "id": "95611100",
   "metadata": {},
   "outputs": [],
   "source": [
    "total_data = [real_data_CO2, real_data_Humidity, real_data_Temperature]"
   ]
  },
  {
   "cell_type": "code",
   "execution_count": 7,
   "id": "e87012a5",
   "metadata": {},
   "outputs": [],
   "source": [
    "total_array = np.array(total_data)"
   ]
  },
  {
   "cell_type": "code",
   "execution_count": 8,
   "id": "40ea0402",
   "metadata": {},
   "outputs": [],
   "source": [
    "np.save('real_value.npy', total_array)"
   ]
  },
  {
   "cell_type": "code",
   "execution_count": 9,
   "id": "3046aca7",
   "metadata": {},
   "outputs": [
    {
     "data": {
      "text/plain": [
       "(3, 120, 18)"
      ]
     },
     "execution_count": 9,
     "metadata": {},
     "output_type": "execute_result"
    }
   ],
   "source": [
    "total_array.shape"
   ]
  },
  {
   "cell_type": "code",
   "execution_count": null,
   "id": "72b597cf",
   "metadata": {},
   "outputs": [],
   "source": []
  }
 ],
 "metadata": {
  "kernelspec": {
   "display_name": "Python 3",
   "language": "python",
   "name": "python3"
  },
  "language_info": {
   "codemirror_mode": {
    "name": "ipython",
    "version": 3
   },
   "file_extension": ".py",
   "mimetype": "text/x-python",
   "name": "python",
   "nbconvert_exporter": "python",
   "pygments_lexer": "ipython3",
   "version": "3.8.8"
  },
  "vscode": {
   "interpreter": {
    "hash": "91bb753b057673435fb8d6f6a083e6c818364728098c7ae050ca3a25357dd754"
   }
  }
 },
 "nbformat": 4,
 "nbformat_minor": 5
}
